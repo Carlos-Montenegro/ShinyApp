{
 "cells": [
  {
   "cell_type": "markdown",
   "metadata": {},
   "source": [
    "Internet Sports Gambling Activity\n",
    "======\n",
    "\n",
    "Group Project for the \"Business Analytics Tools - Open Source\" Course"
   ]
  },
  {
   "cell_type": "markdown",
   "metadata": {},
   "source": [
    "Team Members: Carlos Montenegro Vela, Mario Acosta Castillo, Kripa Claire Fernandes"
   ]
  },
  {
   "cell_type": "markdown",
   "metadata": {},
   "source": [
    "<p>&nbsp;</p>\n",
    "\n",
    "## 1. Installing libraries and setting our WD"
   ]
  },
  {
   "cell_type": "markdown",
   "metadata": {},
   "source": [
    "We install the following libraries: tidyverse, dplyr, lubridate, sqldf, scales, tidyr, plyr"
   ]
  },
  {
   "cell_type": "code",
   "execution_count": 1,
   "metadata": {},
   "outputs": [],
   "source": [
    "#Important to later save our files\n",
    "setwd(\"C:\\\\Users\\\\kfernandes\\\\Desktop\\\\Kripa Fernandes\\\\R Group Project\")"
   ]
  },
  {
   "cell_type": "code",
   "execution_count": 2,
   "metadata": {},
   "outputs": [
    {
     "name": "stderr",
     "output_type": "stream",
     "text": [
      "Installing package into 'C:/Users/kfernandes/Documents/R/win-library/3.6'\n",
      "(as 'lib' is unspecified)\n",
      "Warning message:\n",
      "\"unable to access index for repository https://cran.r-project.org/src/contrib:\n",
      "  cannot open URL 'https://cran.r-project.org/src/contrib/PACKAGES'\"Warning message:\n",
      "\"package 'tidyverse' is not available (for R version 3.6.1)\"Warning message:\n",
      "\"unable to access index for repository https://cran.r-project.org/bin/windows/contrib/3.6:\n",
      "  cannot open URL 'https://cran.r-project.org/bin/windows/contrib/3.6/PACKAGES'\""
     ]
    }
   ],
   "source": [
    "# Installing tidyverse to use haven for importing SAS data\n",
    "install.packages(\"tidyverse\")\n",
    "library(haven)"
   ]
  },
  {
   "cell_type": "code",
   "execution_count": 3,
   "metadata": {},
   "outputs": [
    {
     "name": "stderr",
     "output_type": "stream",
     "text": [
      "Installing package into 'C:/Users/kfernandes/Documents/R/win-library/3.6'\n",
      "(as 'lib' is unspecified)\n",
      "Warning message:\n",
      "\"unable to access index for repository https://cran.r-project.org/src/contrib:\n",
      "  cannot open URL 'https://cran.r-project.org/src/contrib/PACKAGES'\"Warning message:\n",
      "\"package 'dplyr' is not available (for R version 3.6.1)\"Warning message:\n",
      "\"package 'dplyr' was built under R version 3.6.2\"\n",
      "Attaching package: 'dplyr'\n",
      "\n",
      "The following objects are masked from 'package:stats':\n",
      "\n",
      "    filter, lag\n",
      "\n",
      "The following objects are masked from 'package:base':\n",
      "\n",
      "    intersect, setdiff, setequal, union\n",
      "\n"
     ]
    }
   ],
   "source": [
    "# Installing dplyr for data manipulation\n",
    "install.packages(\"dplyr\")\n",
    "library(dplyr)"
   ]
  },
  {
   "cell_type": "code",
   "execution_count": 4,
   "metadata": {},
   "outputs": [
    {
     "name": "stderr",
     "output_type": "stream",
     "text": [
      "Installing package into 'C:/Users/kfernandes/Documents/R/win-library/3.6'\n",
      "(as 'lib' is unspecified)\n"
     ]
    },
    {
     "name": "stdout",
     "output_type": "stream",
     "text": [
      "package 'lubridate' successfully unpacked and MD5 sums checked\n",
      "\n",
      "The downloaded binary packages are in\n",
      "\tC:\\Users\\kfernandes\\AppData\\Local\\Temp\\RtmpAfj0ob\\downloaded_packages\n"
     ]
    },
    {
     "name": "stderr",
     "output_type": "stream",
     "text": [
      "Warning message:\n",
      "\"package 'lubridate' was built under R version 3.6.2\"\n",
      "Attaching package: 'lubridate'\n",
      "\n",
      "The following object is masked from 'package:base':\n",
      "\n",
      "    date\n",
      "\n"
     ]
    }
   ],
   "source": [
    "# Installing lubridate to format date values\n",
    "install.packages(\"lubridate\")\n",
    "library(lubridate)"
   ]
  },
  {
   "cell_type": "code",
   "execution_count": 5,
   "metadata": {},
   "outputs": [
    {
     "name": "stderr",
     "output_type": "stream",
     "text": [
      "Installing package into 'C:/Users/kfernandes/Documents/R/win-library/3.6'\n",
      "(as 'lib' is unspecified)\n"
     ]
    },
    {
     "name": "stdout",
     "output_type": "stream",
     "text": [
      "package 'sqldf' successfully unpacked and MD5 sums checked\n",
      "\n",
      "The downloaded binary packages are in\n",
      "\tC:\\Users\\kfernandes\\AppData\\Local\\Temp\\RtmpAfj0ob\\downloaded_packages\n"
     ]
    },
    {
     "name": "stderr",
     "output_type": "stream",
     "text": [
      "Installing package into 'C:/Users/kfernandes/Documents/R/win-library/3.6'\n",
      "(as 'lib' is unspecified)\n"
     ]
    },
    {
     "name": "stdout",
     "output_type": "stream",
     "text": [
      "package 'scales' successfully unpacked and MD5 sums checked\n",
      "\n",
      "The downloaded binary packages are in\n",
      "\tC:\\Users\\kfernandes\\AppData\\Local\\Temp\\RtmpAfj0ob\\downloaded_packages\n"
     ]
    },
    {
     "name": "stderr",
     "output_type": "stream",
     "text": [
      "Warning message:\n",
      "\"package 'sqldf' was built under R version 3.6.2\"Loading required package: gsubfn\n",
      "Loading required package: proto\n",
      "Loading required package: RSQLite\n",
      "Warning message:\n",
      "\"package 'RSQLite' was built under R version 3.6.2\"Warning message:\n",
      "\"package 'scales' was built under R version 3.6.2\""
     ]
    }
   ],
   "source": [
    "# Installing SQL to group data\n",
    "install.packages(\"sqldf\")\n",
    "install.packages(\"scales\")\n",
    "library(\"sqldf\")\n",
    "library(\"scales\")"
   ]
  },
  {
   "cell_type": "code",
   "execution_count": 6,
   "metadata": {},
   "outputs": [
    {
     "name": "stderr",
     "output_type": "stream",
     "text": [
      "Installing package into 'C:/Users/kfernandes/Documents/R/win-library/3.6'\n",
      "(as 'lib' is unspecified)\n"
     ]
    },
    {
     "name": "stdout",
     "output_type": "stream",
     "text": [
      "package 'tidyr' successfully unpacked and MD5 sums checked\n",
      "\n",
      "The downloaded binary packages are in\n",
      "\tC:\\Users\\kfernandes\\AppData\\Local\\Temp\\RtmpAfj0ob\\downloaded_packages\n"
     ]
    },
    {
     "name": "stderr",
     "output_type": "stream",
     "text": [
      "Warning message:\n",
      "\"package 'tidyr' was built under R version 3.6.2\""
     ]
    }
   ],
   "source": [
    "install.packages(\"tidyr\")\n",
    "library(tidyr)"
   ]
  },
  {
   "cell_type": "code",
   "execution_count": 7,
   "metadata": {},
   "outputs": [
    {
     "name": "stderr",
     "output_type": "stream",
     "text": [
      "Installing package into 'C:/Users/kfernandes/Documents/R/win-library/3.6'\n",
      "(as 'lib' is unspecified)\n"
     ]
    },
    {
     "name": "stdout",
     "output_type": "stream",
     "text": [
      "package 'plyr' successfully unpacked and MD5 sums checked\n",
      "\n",
      "The downloaded binary packages are in\n",
      "\tC:\\Users\\kfernandes\\AppData\\Local\\Temp\\RtmpAfj0ob\\downloaded_packages\n"
     ]
    },
    {
     "name": "stderr",
     "output_type": "stream",
     "text": [
      "Warning message:\n",
      "\"package 'plyr' was built under R version 3.6.2\"------------------------------------------------------------------------------\n",
      "You have loaded plyr after dplyr - this is likely to cause problems.\n",
      "If you need functions from both plyr and dplyr, please load plyr first, then dplyr:\n",
      "library(plyr); library(dplyr)\n",
      "------------------------------------------------------------------------------\n",
      "\n",
      "Attaching package: 'plyr'\n",
      "\n",
      "The following object is masked from 'package:lubridate':\n",
      "\n",
      "    here\n",
      "\n",
      "The following objects are masked from 'package:dplyr':\n",
      "\n",
      "    arrange, count, desc, failwith, id, mutate, rename, summarise,\n",
      "    summarize\n",
      "\n"
     ]
    }
   ],
   "source": [
    "#Installing plyr to rename columns in dataframe\n",
    "install.packages(\"plyr\")\n",
    "library(plyr)"
   ]
  },
  {
   "cell_type": "markdown",
   "metadata": {},
   "source": [
    "<p>&nbsp;</p>\n",
    "\n",
    "## 2. Reading the datasets "
   ]
  },
  {
   "cell_type": "markdown",
   "metadata": {},
   "source": [
    "We read the following datasets: \n",
    "- Raw Dataset I Demographics\n",
    "- Raw Dataset II - UserDailyAggregation\n",
    "- Raw Dataset III - PokerChipConversions\n",
    "- Analytic Dataset - Actual Internet Sports Gambling Activity: February 2005 through September 2005"
   ]
  },
  {
   "cell_type": "markdown",
   "metadata": {},
   "source": [
    "<p>&nbsp;</p>\n",
    "\n",
    "#### Reading, understanding and cleaning the 'Demographics' Dataset"
   ]
  },
  {
   "cell_type": "code",
   "execution_count": 8,
   "metadata": {},
   "outputs": [],
   "source": [
    "#Importing and saving SAS data in R\n",
    "#C:\\\\Users\\\\kfernandes\\\\Desktop\\\\Kripa Fernandes\\\\R Group Project\\\\\n",
    "\n",
    "demographics <- read_sas(\"C:\\\\Users\\\\kfernandes\\\\Desktop\\\\Kripa Fernandes\\\\R Group Project\\\\RawDataIDemographics.sas7bdat\")"
   ]
  },
  {
   "cell_type": "code",
   "execution_count": 9,
   "metadata": {},
   "outputs": [
    {
     "data": {
      "text/html": [
       "<ol class=list-inline>\n",
       "\t<li>'tbl_df'</li>\n",
       "\t<li>'tbl'</li>\n",
       "\t<li>'data.frame'</li>\n",
       "</ol>\n"
      ],
      "text/latex": [
       "\\begin{enumerate*}\n",
       "\\item 'tbl\\_df'\n",
       "\\item 'tbl'\n",
       "\\item 'data.frame'\n",
       "\\end{enumerate*}\n"
      ],
      "text/markdown": [
       "1. 'tbl_df'\n",
       "2. 'tbl'\n",
       "3. 'data.frame'\n",
       "\n",
       "\n"
      ],
      "text/plain": [
       "[1] \"tbl_df\"     \"tbl\"        \"data.frame\""
      ]
     },
     "metadata": {},
     "output_type": "display_data"
    }
   ],
   "source": [
    "#To check type of data\n",
    "\n",
    "class(demographics)"
   ]
  },
  {
   "cell_type": "code",
   "execution_count": 10,
   "metadata": {},
   "outputs": [
    {
     "data": {
      "text/html": [
       "<ol class=list-inline>\n",
       "\t<li>'UserID'</li>\n",
       "\t<li>'Country'</li>\n",
       "\t<li>'Language'</li>\n",
       "\t<li>'RegDate'</li>\n",
       "\t<li>'FirstPay'</li>\n",
       "\t<li>'FirstAct'</li>\n",
       "\t<li>'FirstSp'</li>\n",
       "\t<li>'FirstCa'</li>\n",
       "\t<li>'FirstGa'</li>\n",
       "\t<li>'FirstPo'</li>\n",
       "\t<li>'ApplicationID'</li>\n",
       "\t<li>'Gender'</li>\n",
       "</ol>\n"
      ],
      "text/latex": [
       "\\begin{enumerate*}\n",
       "\\item 'UserID'\n",
       "\\item 'Country'\n",
       "\\item 'Language'\n",
       "\\item 'RegDate'\n",
       "\\item 'FirstPay'\n",
       "\\item 'FirstAct'\n",
       "\\item 'FirstSp'\n",
       "\\item 'FirstCa'\n",
       "\\item 'FirstGa'\n",
       "\\item 'FirstPo'\n",
       "\\item 'ApplicationID'\n",
       "\\item 'Gender'\n",
       "\\end{enumerate*}\n"
      ],
      "text/markdown": [
       "1. 'UserID'\n",
       "2. 'Country'\n",
       "3. 'Language'\n",
       "4. 'RegDate'\n",
       "5. 'FirstPay'\n",
       "6. 'FirstAct'\n",
       "7. 'FirstSp'\n",
       "8. 'FirstCa'\n",
       "9. 'FirstGa'\n",
       "10. 'FirstPo'\n",
       "11. 'ApplicationID'\n",
       "12. 'Gender'\n",
       "\n",
       "\n"
      ],
      "text/plain": [
       " [1] \"UserID\"        \"Country\"       \"Language\"      \"RegDate\"      \n",
       " [5] \"FirstPay\"      \"FirstAct\"      \"FirstSp\"       \"FirstCa\"      \n",
       " [9] \"FirstGa\"       \"FirstPo\"       \"ApplicationID\" \"Gender\"       "
      ]
     },
     "metadata": {},
     "output_type": "display_data"
    }
   ],
   "source": [
    "#To check column names of data frame\n",
    "\n",
    "names(demographics)"
   ]
  },
  {
   "cell_type": "code",
   "execution_count": 11,
   "metadata": {},
   "outputs": [
    {
     "data": {
      "text/html": [
       "<ol class=list-inline>\n",
       "\t<li>42649</li>\n",
       "\t<li>12</li>\n",
       "</ol>\n"
      ],
      "text/latex": [
       "\\begin{enumerate*}\n",
       "\\item 42649\n",
       "\\item 12\n",
       "\\end{enumerate*}\n"
      ],
      "text/markdown": [
       "1. 42649\n",
       "2. 12\n",
       "\n",
       "\n"
      ],
      "text/plain": [
       "[1] 42649    12"
      ]
     },
     "metadata": {},
     "output_type": "display_data"
    }
   ],
   "source": [
    "#To check dimensions of data frame: Rows (42649) and Columns (12)\n",
    "\n",
    "dim(demographics)"
   ]
  },
  {
   "cell_type": "code",
   "execution_count": 12,
   "metadata": {},
   "outputs": [
    {
     "data": {
      "text/html": [
       "<table>\n",
       "<thead><tr><th scope=col>UserID</th><th scope=col>Country</th><th scope=col>Language</th><th scope=col>RegDate</th><th scope=col>FirstPay</th><th scope=col>FirstAct</th><th scope=col>FirstSp</th><th scope=col>FirstCa</th><th scope=col>FirstGa</th><th scope=col>FirstPo</th><th scope=col>ApplicationID</th><th scope=col>Gender</th></tr></thead>\n",
       "<tbody>\n",
       "\t<tr><td>1324354   </td><td>276       </td><td>2         </td><td>2005-02-01</td><td>20050224  </td><td>20050224  </td><td>20050224  </td><td>NULL      </td><td>NULL      </td><td>NULL      </td><td>3         </td><td>1         </td></tr>\n",
       "\t<tr><td>1324355   </td><td>300       </td><td>8         </td><td>2005-02-01</td><td>20050201  </td><td>20050201  </td><td>20050201  </td><td>NULL      </td><td>NULL      </td><td>20050611  </td><td>1         </td><td>1         </td></tr>\n",
       "\t<tr><td>1324356   </td><td>276       </td><td>2         </td><td>2005-02-01</td><td>20050201  </td><td>20050202  </td><td>20050202  </td><td>NULL      </td><td>NULL      </td><td>NULL      </td><td>3         </td><td>1         </td></tr>\n",
       "\t<tr><td>1324358   </td><td>752       </td><td>1         </td><td>2005-02-01</td><td>20050201  </td><td>20050201  </td><td>20050201  </td><td>NULL      </td><td>NULL      </td><td>NULL      </td><td>1         </td><td>1         </td></tr>\n",
       "\t<tr><td>1324360   </td><td>792       </td><td>7         </td><td>2005-02-01</td><td>20050202  </td><td>20050202  </td><td>20050202  </td><td>20050203  </td><td>NULL      </td><td>NULL      </td><td>9         </td><td>1         </td></tr>\n",
       "\t<tr><td>1324362   </td><td>276       </td><td>2         </td><td>2005-02-01</td><td>20050211  </td><td>20050211  </td><td>20050211  </td><td>NULL      </td><td>NULL      </td><td>NULL      </td><td>3         </td><td>1         </td></tr>\n",
       "</tbody>\n",
       "</table>\n"
      ],
      "text/latex": [
       "\\begin{tabular}{r|llllllllllll}\n",
       " UserID & Country & Language & RegDate & FirstPay & FirstAct & FirstSp & FirstCa & FirstGa & FirstPo & ApplicationID & Gender\\\\\n",
       "\\hline\n",
       "\t 1324354    & 276        & 2          & 2005-02-01 & 20050224   & 20050224   & 20050224   & NULL       & NULL       & NULL       & 3          & 1         \\\\\n",
       "\t 1324355    & 300        & 8          & 2005-02-01 & 20050201   & 20050201   & 20050201   & NULL       & NULL       & 20050611   & 1          & 1         \\\\\n",
       "\t 1324356    & 276        & 2          & 2005-02-01 & 20050201   & 20050202   & 20050202   & NULL       & NULL       & NULL       & 3          & 1         \\\\\n",
       "\t 1324358    & 752        & 1          & 2005-02-01 & 20050201   & 20050201   & 20050201   & NULL       & NULL       & NULL       & 1          & 1         \\\\\n",
       "\t 1324360    & 792        & 7          & 2005-02-01 & 20050202   & 20050202   & 20050202   & 20050203   & NULL       & NULL       & 9          & 1         \\\\\n",
       "\t 1324362    & 276        & 2          & 2005-02-01 & 20050211   & 20050211   & 20050211   & NULL       & NULL       & NULL       & 3          & 1         \\\\\n",
       "\\end{tabular}\n"
      ],
      "text/markdown": [
       "\n",
       "| UserID | Country | Language | RegDate | FirstPay | FirstAct | FirstSp | FirstCa | FirstGa | FirstPo | ApplicationID | Gender |\n",
       "|---|---|---|---|---|---|---|---|---|---|---|---|\n",
       "| 1324354    | 276        | 2          | 2005-02-01 | 20050224   | 20050224   | 20050224   | NULL       | NULL       | NULL       | 3          | 1          |\n",
       "| 1324355    | 300        | 8          | 2005-02-01 | 20050201   | 20050201   | 20050201   | NULL       | NULL       | 20050611   | 1          | 1          |\n",
       "| 1324356    | 276        | 2          | 2005-02-01 | 20050201   | 20050202   | 20050202   | NULL       | NULL       | NULL       | 3          | 1          |\n",
       "| 1324358    | 752        | 1          | 2005-02-01 | 20050201   | 20050201   | 20050201   | NULL       | NULL       | NULL       | 1          | 1          |\n",
       "| 1324360    | 792        | 7          | 2005-02-01 | 20050202   | 20050202   | 20050202   | 20050203   | NULL       | NULL       | 9          | 1          |\n",
       "| 1324362    | 276        | 2          | 2005-02-01 | 20050211   | 20050211   | 20050211   | NULL       | NULL       | NULL       | 3          | 1          |\n",
       "\n"
      ],
      "text/plain": [
       "  UserID  Country Language RegDate    FirstPay FirstAct FirstSp  FirstCa \n",
       "1 1324354 276     2        2005-02-01 20050224 20050224 20050224 NULL    \n",
       "2 1324355 300     8        2005-02-01 20050201 20050201 20050201 NULL    \n",
       "3 1324356 276     2        2005-02-01 20050201 20050202 20050202 NULL    \n",
       "4 1324358 752     1        2005-02-01 20050201 20050201 20050201 NULL    \n",
       "5 1324360 792     7        2005-02-01 20050202 20050202 20050202 20050203\n",
       "6 1324362 276     2        2005-02-01 20050211 20050211 20050211 NULL    \n",
       "  FirstGa FirstPo  ApplicationID Gender\n",
       "1 NULL    NULL     3             1     \n",
       "2 NULL    20050611 1             1     \n",
       "3 NULL    NULL     3             1     \n",
       "4 NULL    NULL     1             1     \n",
       "5 NULL    NULL     9             1     \n",
       "6 NULL    NULL     3             1     "
      ]
     },
     "metadata": {},
     "output_type": "display_data"
    }
   ],
   "source": [
    "#To check data values for an idea of what to clean\n",
    "\n",
    "head(demographics)"
   ]
  },
  {
   "cell_type": "code",
   "execution_count": 13,
   "metadata": {},
   "outputs": [
    {
     "data": {
      "text/html": [
       "<table>\n",
       "<thead><tr><th scope=col>UserID</th><th scope=col>Country</th><th scope=col>Language</th><th scope=col>RegDate</th><th scope=col>FirstPay</th><th scope=col>FirstAct</th><th scope=col>FirstSp</th><th scope=col>FirstCa</th><th scope=col>FirstGa</th><th scope=col>FirstPo</th><th scope=col>ApplicationID</th><th scope=col>Gender</th></tr></thead>\n",
       "<tbody>\n",
       "\t<tr><td>1402189   </td><td>276       </td><td>2         </td><td>2005-02-27</td><td>20050421  </td><td>20050423  </td><td>20050423  </td><td>NULL      </td><td>NULL      </td><td>NULL      </td><td> 3        </td><td>1         </td></tr>\n",
       "\t<tr><td>1402190   </td><td>300       </td><td>8         </td><td>2005-02-27</td><td>20050227  </td><td>20050228  </td><td>20050228  </td><td>NULL      </td><td>NULL      </td><td>NULL      </td><td>14        </td><td>1         </td></tr>\n",
       "\t<tr><td>1402191   </td><td>724       </td><td>4         </td><td>2005-02-27</td><td>20050227  </td><td>20050227  </td><td>20050227  </td><td>NULL      </td><td>NULL      </td><td>NULL      </td><td> 1        </td><td>1         </td></tr>\n",
       "\t<tr><td>1402192   </td><td>792       </td><td>7         </td><td>2005-02-27</td><td>20050428  </td><td>20050428  </td><td>20050428  </td><td>NULL      </td><td>NULL      </td><td>NULL      </td><td> 9        </td><td>1         </td></tr>\n",
       "\t<tr><td>1402197   </td><td>300       </td><td>8         </td><td>2005-02-27</td><td>20050228  </td><td>20050302  </td><td>20050302  </td><td>NULL      </td><td>NULL      </td><td>NULL      </td><td>14        </td><td>1         </td></tr>\n",
       "\t<tr><td>1402198   </td><td>752       </td><td>5         </td><td>2005-02-27</td><td>20050722  </td><td>20050228  </td><td>NULL      </td><td>20050722  </td><td>20050722  </td><td>20050228  </td><td>24        </td><td>1         </td></tr>\n",
       "</tbody>\n",
       "</table>\n"
      ],
      "text/latex": [
       "\\begin{tabular}{r|llllllllllll}\n",
       " UserID & Country & Language & RegDate & FirstPay & FirstAct & FirstSp & FirstCa & FirstGa & FirstPo & ApplicationID & Gender\\\\\n",
       "\\hline\n",
       "\t 1402189    & 276        & 2          & 2005-02-27 & 20050421   & 20050423   & 20050423   & NULL       & NULL       & NULL       &  3         & 1         \\\\\n",
       "\t 1402190    & 300        & 8          & 2005-02-27 & 20050227   & 20050228   & 20050228   & NULL       & NULL       & NULL       & 14         & 1         \\\\\n",
       "\t 1402191    & 724        & 4          & 2005-02-27 & 20050227   & 20050227   & 20050227   & NULL       & NULL       & NULL       &  1         & 1         \\\\\n",
       "\t 1402192    & 792        & 7          & 2005-02-27 & 20050428   & 20050428   & 20050428   & NULL       & NULL       & NULL       &  9         & 1         \\\\\n",
       "\t 1402197    & 300        & 8          & 2005-02-27 & 20050228   & 20050302   & 20050302   & NULL       & NULL       & NULL       & 14         & 1         \\\\\n",
       "\t 1402198    & 752        & 5          & 2005-02-27 & 20050722   & 20050228   & NULL       & 20050722   & 20050722   & 20050228   & 24         & 1         \\\\\n",
       "\\end{tabular}\n"
      ],
      "text/markdown": [
       "\n",
       "| UserID | Country | Language | RegDate | FirstPay | FirstAct | FirstSp | FirstCa | FirstGa | FirstPo | ApplicationID | Gender |\n",
       "|---|---|---|---|---|---|---|---|---|---|---|---|\n",
       "| 1402189    | 276        | 2          | 2005-02-27 | 20050421   | 20050423   | 20050423   | NULL       | NULL       | NULL       |  3         | 1          |\n",
       "| 1402190    | 300        | 8          | 2005-02-27 | 20050227   | 20050228   | 20050228   | NULL       | NULL       | NULL       | 14         | 1          |\n",
       "| 1402191    | 724        | 4          | 2005-02-27 | 20050227   | 20050227   | 20050227   | NULL       | NULL       | NULL       |  1         | 1          |\n",
       "| 1402192    | 792        | 7          | 2005-02-27 | 20050428   | 20050428   | 20050428   | NULL       | NULL       | NULL       |  9         | 1          |\n",
       "| 1402197    | 300        | 8          | 2005-02-27 | 20050228   | 20050302   | 20050302   | NULL       | NULL       | NULL       | 14         | 1          |\n",
       "| 1402198    | 752        | 5          | 2005-02-27 | 20050722   | 20050228   | NULL       | 20050722   | 20050722   | 20050228   | 24         | 1          |\n",
       "\n"
      ],
      "text/plain": [
       "  UserID  Country Language RegDate    FirstPay FirstAct FirstSp  FirstCa \n",
       "1 1402189 276     2        2005-02-27 20050421 20050423 20050423 NULL    \n",
       "2 1402190 300     8        2005-02-27 20050227 20050228 20050228 NULL    \n",
       "3 1402191 724     4        2005-02-27 20050227 20050227 20050227 NULL    \n",
       "4 1402192 792     7        2005-02-27 20050428 20050428 20050428 NULL    \n",
       "5 1402197 300     8        2005-02-27 20050228 20050302 20050302 NULL    \n",
       "6 1402198 752     5        2005-02-27 20050722 20050228 NULL     20050722\n",
       "  FirstGa  FirstPo  ApplicationID Gender\n",
       "1 NULL     NULL      3            1     \n",
       "2 NULL     NULL     14            1     \n",
       "3 NULL     NULL      1            1     \n",
       "4 NULL     NULL      9            1     \n",
       "5 NULL     NULL     14            1     \n",
       "6 20050722 20050228 24            1     "
      ]
     },
     "metadata": {},
     "output_type": "display_data"
    }
   ],
   "source": [
    "tail(demographics)"
   ]
  },
  {
   "cell_type": "code",
   "execution_count": 14,
   "metadata": {},
   "outputs": [
    {
     "name": "stdout",
     "output_type": "stream",
     "text": [
      "Classes 'tbl_df', 'tbl' and 'data.frame':\t42649 obs. of  12 variables:\n",
      " $ UserID       : num  1324354 1324355 1324356 1324358 1324360 ...\n",
      "  ..- attr(*, \"label\")= chr \"User ID\"\n",
      " $ Country      : num  276 300 276 752 792 276 208 276 620 792 ...\n",
      "  ..- attr(*, \"label\")= chr \"Country of residence\"\n",
      " $ Language     : num  2 8 2 1 7 2 11 2 16 7 ...\n",
      "  ..- attr(*, \"label\")= chr \"Primary language\"\n",
      " $ RegDate      : chr  \"2005-02-01\" \"2005-02-01\" \"2005-02-01\" \"2005-02-01\" ...\n",
      "  ..- attr(*, \"label\")= chr \"Registration Date\"\n",
      " $ FirstPay     : chr  \"20050224\" \"20050201\" \"20050201\" \"20050201\" ...\n",
      "  ..- attr(*, \"label\")= chr \"First Payin Date\"\n",
      " $ FirstAct     : chr  \"20050224\" \"20050201\" \"20050202\" \"20050201\" ...\n",
      "  ..- attr(*, \"label\")= chr \"First Active Play Date\"\n",
      " $ FirstSp      : chr  \"20050224\" \"20050201\" \"20050202\" \"20050201\" ...\n",
      "  ..- attr(*, \"label\")= chr \"First Sports Book Play Date\"\n",
      " $ FirstCa      : chr  \"NULL\" \"NULL\" \"NULL\" \"NULL\" ...\n",
      "  ..- attr(*, \"label\")= chr \"First Casino Play Date\"\n",
      " $ FirstGa      : chr  \"NULL\" \"NULL\" \"NULL\" \"NULL\" ...\n",
      "  ..- attr(*, \"label\")= chr \"First Games Play Date\"\n",
      " $ FirstPo      : chr  \"NULL\" \"20050611\" \"NULL\" \"NULL\" ...\n",
      "  ..- attr(*, \"label\")= chr \"First Poker Play Date\"\n",
      " $ ApplicationID: num  3 1 3 1 9 3 1 3 1 9 ...\n",
      "  ..- attr(*, \"label\")= chr \"Application ID\"\n",
      " $ Gender       : num  1 1 1 1 1 1 1 1 1 1 ...\n",
      " - attr(*, \"label\")= chr \"DEMOGRAPHICS\"\n"
     ]
    }
   ],
   "source": [
    "#To understand data structure\n",
    "\n",
    "str(demographics)"
   ]
  },
  {
   "cell_type": "code",
   "execution_count": 15,
   "metadata": {},
   "outputs": [
    {
     "name": "stdout",
     "output_type": "stream",
     "text": [
      "Observations: 42,649\n",
      "Variables: 12\n",
      "$ UserID        <dbl> 1324354, 1324355, 1324356, 1324358, 1324360, 1324362,...\n",
      "$ Country       <dbl> 276, 300, 276, 752, 792, 276, 208, 276, 620, 792, 792...\n",
      "$ Language      <dbl> 2, 8, 2, 1, 7, 2, 11, 2, 16, 7, 7, 9, 11, 2, 8, 10, 2...\n",
      "$ RegDate       <chr> \"2005-02-01\", \"2005-02-01\", \"2005-02-01\", \"2005-02-01...\n",
      "$ FirstPay      <chr> \"20050224\", \"20050201\", \"20050201\", \"20050201\", \"2005...\n",
      "$ FirstAct      <chr> \"20050224\", \"20050201\", \"20050202\", \"20050201\", \"2005...\n",
      "$ FirstSp       <chr> \"20050224\", \"20050201\", \"20050202\", \"20050201\", \"2005...\n",
      "$ FirstCa       <chr> \"NULL\", \"NULL\", \"NULL\", \"NULL\", \"20050203\", \"NULL\", \"...\n",
      "$ FirstGa       <chr> \"NULL\", \"NULL\", \"NULL\", \"NULL\", \"NULL\", \"NULL\", \"NULL...\n",
      "$ FirstPo       <chr> \"NULL\", \"20050611\", \"NULL\", \"NULL\", \"NULL\", \"NULL\", \"...\n",
      "$ ApplicationID <dbl> 3, 1, 3, 1, 9, 3, 1, 3, 1, 9, 9, 1, 1, 1, 1, 15, 3, 1...\n",
      "$ Gender        <dbl> 1, 1, 1, 1, 1, 1, 1, 1, 1, 1, 1, 1, 1, 1, 1, 1, 1, 1,...\n"
     ]
    }
   ],
   "source": [
    "glimpse(demographics)"
   ]
  },
  {
   "cell_type": "code",
   "execution_count": 16,
   "metadata": {},
   "outputs": [
    {
     "data": {
      "text/plain": [
       "     UserID           Country         Language        RegDate         \n",
       " Min.   :1324354   Min.   :  8.0   Min.   : 1.000   Length:42649      \n",
       " 1st Qu.:1344150   1st Qu.:276.0   1st Qu.: 2.000   Class :character  \n",
       " Median :1363323   Median :276.0   Median : 2.000   Mode  :character  \n",
       " Mean   :1363348   Mean   :359.4   Mean   : 3.819                     \n",
       " 3rd Qu.:1382577   3rd Qu.:300.0   3rd Qu.: 6.000                     \n",
       " Max.   :1402198   Max.   :895.0   Max.   :17.000                     \n",
       "                                                                      \n",
       "   FirstPay           FirstAct           FirstSp            FirstCa         \n",
       " Length:42649       Length:42649       Length:42649       Length:42649      \n",
       " Class :character   Class :character   Class :character   Class :character  \n",
       " Mode  :character   Mode  :character   Mode  :character   Mode  :character  \n",
       "                                                                            \n",
       "                                                                            \n",
       "                                                                            \n",
       "                                                                            \n",
       "   FirstGa            FirstPo          ApplicationID        Gender      \n",
       " Length:42649       Length:42649       Min.   : 1.000   Min.   :0.0000  \n",
       " Class :character   Class :character   1st Qu.: 1.000   1st Qu.:1.0000  \n",
       " Mode  :character   Mode  :character   Median : 3.000   Median :1.0000  \n",
       "                                       Mean   : 3.913   Mean   :0.9159  \n",
       "                                       3rd Qu.: 3.000   3rd Qu.:1.0000  \n",
       "                                       Max.   :42.000   Max.   :1.0000  \n",
       "                                                        NA's   :1       "
      ]
     },
     "metadata": {},
     "output_type": "display_data"
    }
   ],
   "source": [
    "#To understand the data values\n",
    "\n",
    "summary(demographics)"
   ]
  },
  {
   "cell_type": "code",
   "execution_count": 17,
   "metadata": {},
   "outputs": [
    {
     "name": "stderr",
     "output_type": "stream",
     "text": [
      "Warning message:\n",
      "\" 1236 failed to parse.\"Warning message:\n",
      "\" 36761 failed to parse.\"Warning message:\n",
      "\" 39376 failed to parse.\"Warning message:\n",
      "\" 40507 failed to parse.\""
     ]
    }
   ],
   "source": [
    "#Converting values to date format\n",
    "\n",
    "demographics$FirstPay <- ymd(demographics$FirstPay)\n",
    "demographics$FirstAct <- ymd(demographics$FirstAct)\n",
    "demographics$FirstSp <- ymd(demographics$FirstSp)\n",
    "demographics$FirstCa <- ymd(demographics$FirstCa)\n",
    "demographics$FirstGa <- ymd(demographics$FirstGa)\n",
    "demographics$FirstPo <- ymd(demographics$FirstPo)"
   ]
  },
  {
   "cell_type": "code",
   "execution_count": 18,
   "metadata": {},
   "outputs": [
    {
     "data": {
      "text/html": [
       "<table>\n",
       "<thead><tr><th scope=col>UserID</th><th scope=col>Country</th><th scope=col>Language</th><th scope=col>RegDate</th><th scope=col>FirstPay</th><th scope=col>FirstAct</th><th scope=col>FirstSp</th><th scope=col>FirstCa</th><th scope=col>FirstGa</th><th scope=col>FirstPo</th><th scope=col>ApplicationID</th><th scope=col>Gender</th></tr></thead>\n",
       "<tbody>\n",
       "\t<tr><td>1324354   </td><td>276       </td><td>2         </td><td>2005-02-01</td><td>2005-02-24</td><td>2005-02-24</td><td>2005-02-24</td><td>NA        </td><td>NA        </td><td>NA        </td><td>3         </td><td>1         </td></tr>\n",
       "\t<tr><td>1324355   </td><td>300       </td><td>8         </td><td>2005-02-01</td><td>2005-02-01</td><td>2005-02-01</td><td>2005-02-01</td><td>NA        </td><td>NA        </td><td>2005-06-11</td><td>1         </td><td>1         </td></tr>\n",
       "\t<tr><td>1324356   </td><td>276       </td><td>2         </td><td>2005-02-01</td><td>2005-02-01</td><td>2005-02-02</td><td>2005-02-02</td><td>NA        </td><td>NA        </td><td>NA        </td><td>3         </td><td>1         </td></tr>\n",
       "\t<tr><td>1324358   </td><td>752       </td><td>1         </td><td>2005-02-01</td><td>2005-02-01</td><td>2005-02-01</td><td>2005-02-01</td><td>NA        </td><td>NA        </td><td>NA        </td><td>1         </td><td>1         </td></tr>\n",
       "\t<tr><td>1324360   </td><td>792       </td><td>7         </td><td>2005-02-01</td><td>2005-02-02</td><td>2005-02-02</td><td>2005-02-02</td><td>2005-02-03</td><td>NA        </td><td>NA        </td><td>9         </td><td>1         </td></tr>\n",
       "\t<tr><td>1324362   </td><td>276       </td><td>2         </td><td>2005-02-01</td><td>2005-02-11</td><td>2005-02-11</td><td>2005-02-11</td><td>NA        </td><td>NA        </td><td>NA        </td><td>3         </td><td>1         </td></tr>\n",
       "</tbody>\n",
       "</table>\n"
      ],
      "text/latex": [
       "\\begin{tabular}{r|llllllllllll}\n",
       " UserID & Country & Language & RegDate & FirstPay & FirstAct & FirstSp & FirstCa & FirstGa & FirstPo & ApplicationID & Gender\\\\\n",
       "\\hline\n",
       "\t 1324354    & 276        & 2          & 2005-02-01 & 2005-02-24 & 2005-02-24 & 2005-02-24 & NA         & NA         & NA         & 3          & 1         \\\\\n",
       "\t 1324355    & 300        & 8          & 2005-02-01 & 2005-02-01 & 2005-02-01 & 2005-02-01 & NA         & NA         & 2005-06-11 & 1          & 1         \\\\\n",
       "\t 1324356    & 276        & 2          & 2005-02-01 & 2005-02-01 & 2005-02-02 & 2005-02-02 & NA         & NA         & NA         & 3          & 1         \\\\\n",
       "\t 1324358    & 752        & 1          & 2005-02-01 & 2005-02-01 & 2005-02-01 & 2005-02-01 & NA         & NA         & NA         & 1          & 1         \\\\\n",
       "\t 1324360    & 792        & 7          & 2005-02-01 & 2005-02-02 & 2005-02-02 & 2005-02-02 & 2005-02-03 & NA         & NA         & 9          & 1         \\\\\n",
       "\t 1324362    & 276        & 2          & 2005-02-01 & 2005-02-11 & 2005-02-11 & 2005-02-11 & NA         & NA         & NA         & 3          & 1         \\\\\n",
       "\\end{tabular}\n"
      ],
      "text/markdown": [
       "\n",
       "| UserID | Country | Language | RegDate | FirstPay | FirstAct | FirstSp | FirstCa | FirstGa | FirstPo | ApplicationID | Gender |\n",
       "|---|---|---|---|---|---|---|---|---|---|---|---|\n",
       "| 1324354    | 276        | 2          | 2005-02-01 | 2005-02-24 | 2005-02-24 | 2005-02-24 | NA         | NA         | NA         | 3          | 1          |\n",
       "| 1324355    | 300        | 8          | 2005-02-01 | 2005-02-01 | 2005-02-01 | 2005-02-01 | NA         | NA         | 2005-06-11 | 1          | 1          |\n",
       "| 1324356    | 276        | 2          | 2005-02-01 | 2005-02-01 | 2005-02-02 | 2005-02-02 | NA         | NA         | NA         | 3          | 1          |\n",
       "| 1324358    | 752        | 1          | 2005-02-01 | 2005-02-01 | 2005-02-01 | 2005-02-01 | NA         | NA         | NA         | 1          | 1          |\n",
       "| 1324360    | 792        | 7          | 2005-02-01 | 2005-02-02 | 2005-02-02 | 2005-02-02 | 2005-02-03 | NA         | NA         | 9          | 1          |\n",
       "| 1324362    | 276        | 2          | 2005-02-01 | 2005-02-11 | 2005-02-11 | 2005-02-11 | NA         | NA         | NA         | 3          | 1          |\n",
       "\n"
      ],
      "text/plain": [
       "  UserID  Country Language RegDate    FirstPay   FirstAct   FirstSp   \n",
       "1 1324354 276     2        2005-02-01 2005-02-24 2005-02-24 2005-02-24\n",
       "2 1324355 300     8        2005-02-01 2005-02-01 2005-02-01 2005-02-01\n",
       "3 1324356 276     2        2005-02-01 2005-02-01 2005-02-02 2005-02-02\n",
       "4 1324358 752     1        2005-02-01 2005-02-01 2005-02-01 2005-02-01\n",
       "5 1324360 792     7        2005-02-01 2005-02-02 2005-02-02 2005-02-02\n",
       "6 1324362 276     2        2005-02-01 2005-02-11 2005-02-11 2005-02-11\n",
       "  FirstCa    FirstGa FirstPo    ApplicationID Gender\n",
       "1 <NA>       <NA>    <NA>       3             1     \n",
       "2 <NA>       <NA>    2005-06-11 1             1     \n",
       "3 <NA>       <NA>    <NA>       3             1     \n",
       "4 <NA>       <NA>    <NA>       1             1     \n",
       "5 2005-02-03 <NA>    <NA>       9             1     \n",
       "6 <NA>       <NA>    <NA>       3             1     "
      ]
     },
     "metadata": {},
     "output_type": "display_data"
    }
   ],
   "source": [
    "head(demographics)"
   ]
  },
  {
   "cell_type": "code",
   "execution_count": 19,
   "metadata": {},
   "outputs": [],
   "source": [
    "#Making a copy to the final version\n",
    "\n",
    "demographics_final <- demographics"
   ]
  },
  {
   "cell_type": "markdown",
   "metadata": {},
   "source": [
    "<p>&nbsp;</p>\n",
    "\n",
    "\n",
    "\n",
    "#### Reading, understanding and cleaning the 'Poker Chip Conversions' Dataset"
   ]
  },
  {
   "cell_type": "code",
   "execution_count": 20,
   "metadata": {},
   "outputs": [],
   "source": [
    "#Importing Poker Chips Conversion dataset\n",
    "\n",
    "pokerchips <- read_sas(\"C:\\\\Users\\\\kfernandes\\\\Desktop\\\\Kripa Fernandes\\\\R Group Project\\\\RawDataIIIPokerChipConversions.sas7bdat\")"
   ]
  },
  {
   "cell_type": "code",
   "execution_count": 21,
   "metadata": {},
   "outputs": [
    {
     "data": {
      "text/html": [
       "<ol class=list-inline>\n",
       "\t<li>'tbl_df'</li>\n",
       "\t<li>'tbl'</li>\n",
       "\t<li>'data.frame'</li>\n",
       "</ol>\n"
      ],
      "text/latex": [
       "\\begin{enumerate*}\n",
       "\\item 'tbl\\_df'\n",
       "\\item 'tbl'\n",
       "\\item 'data.frame'\n",
       "\\end{enumerate*}\n"
      ],
      "text/markdown": [
       "1. 'tbl_df'\n",
       "2. 'tbl'\n",
       "3. 'data.frame'\n",
       "\n",
       "\n"
      ],
      "text/plain": [
       "[1] \"tbl_df\"     \"tbl\"        \"data.frame\""
      ]
     },
     "metadata": {},
     "output_type": "display_data"
    }
   ],
   "source": [
    "#To check type of data\n",
    "\n",
    "class(pokerchips)"
   ]
  },
  {
   "cell_type": "code",
   "execution_count": 22,
   "metadata": {},
   "outputs": [
    {
     "data": {
      "text/html": [
       "<ol class=list-inline>\n",
       "\t<li>'UserID'</li>\n",
       "\t<li>'TransDateTime'</li>\n",
       "\t<li>'TransType'</li>\n",
       "\t<li>'TransAmount'</li>\n",
       "</ol>\n"
      ],
      "text/latex": [
       "\\begin{enumerate*}\n",
       "\\item 'UserID'\n",
       "\\item 'TransDateTime'\n",
       "\\item 'TransType'\n",
       "\\item 'TransAmount'\n",
       "\\end{enumerate*}\n"
      ],
      "text/markdown": [
       "1. 'UserID'\n",
       "2. 'TransDateTime'\n",
       "3. 'TransType'\n",
       "4. 'TransAmount'\n",
       "\n",
       "\n"
      ],
      "text/plain": [
       "[1] \"UserID\"        \"TransDateTime\" \"TransType\"     \"TransAmount\"  "
      ]
     },
     "metadata": {},
     "output_type": "display_data"
    }
   ],
   "source": [
    "#To check column names of data frame\n",
    "\n",
    "names(pokerchips)"
   ]
  },
  {
   "cell_type": "code",
   "execution_count": 23,
   "metadata": {},
   "outputs": [
    {
     "data": {
      "text/html": [
       "<ol class=list-inline>\n",
       "\t<li>277907</li>\n",
       "\t<li>4</li>\n",
       "</ol>\n"
      ],
      "text/latex": [
       "\\begin{enumerate*}\n",
       "\\item 277907\n",
       "\\item 4\n",
       "\\end{enumerate*}\n"
      ],
      "text/markdown": [
       "1. 277907\n",
       "2. 4\n",
       "\n",
       "\n"
      ],
      "text/plain": [
       "[1] 277907      4"
      ]
     },
     "metadata": {},
     "output_type": "display_data"
    }
   ],
   "source": [
    "#To check dimensions of data frame: Rows (277907) and Columns (4)\n",
    "\n",
    "dim(pokerchips)"
   ]
  },
  {
   "cell_type": "code",
   "execution_count": 24,
   "metadata": {},
   "outputs": [
    {
     "data": {
      "text/html": [
       "<table>\n",
       "<thead><tr><th scope=col>UserID</th><th scope=col>TransDateTime</th><th scope=col>TransType</th><th scope=col>TransAmount</th></tr></thead>\n",
       "<tbody>\n",
       "\t<tr><td>1324355            </td><td>2005-06-12 00:37:00</td><td>124                </td><td>8.9999             </td></tr>\n",
       "\t<tr><td>1324355            </td><td>2005-06-12 00:51:00</td><td>124                </td><td>1.9999             </td></tr>\n",
       "\t<tr><td>1324355            </td><td>2005-06-12 01:14:00</td><td>124                </td><td>4.9999             </td></tr>\n",
       "\t<tr><td>1324355            </td><td>2005-06-12 02:01:00</td><td> 24                </td><td>1.8069             </td></tr>\n",
       "\t<tr><td>1324355            </td><td>2005-06-14 23:35:00</td><td>124                </td><td>4.9999             </td></tr>\n",
       "\t<tr><td>1324355            </td><td>2005-06-14 23:45:00</td><td>124                </td><td>4.9999             </td></tr>\n",
       "</tbody>\n",
       "</table>\n"
      ],
      "text/latex": [
       "\\begin{tabular}{r|llll}\n",
       " UserID & TransDateTime & TransType & TransAmount\\\\\n",
       "\\hline\n",
       "\t 1324355             & 2005-06-12 00:37:00 & 124                 & 8.9999             \\\\\n",
       "\t 1324355             & 2005-06-12 00:51:00 & 124                 & 1.9999             \\\\\n",
       "\t 1324355             & 2005-06-12 01:14:00 & 124                 & 4.9999             \\\\\n",
       "\t 1324355             & 2005-06-12 02:01:00 &  24                 & 1.8069             \\\\\n",
       "\t 1324355             & 2005-06-14 23:35:00 & 124                 & 4.9999             \\\\\n",
       "\t 1324355             & 2005-06-14 23:45:00 & 124                 & 4.9999             \\\\\n",
       "\\end{tabular}\n"
      ],
      "text/markdown": [
       "\n",
       "| UserID | TransDateTime | TransType | TransAmount |\n",
       "|---|---|---|---|\n",
       "| 1324355             | 2005-06-12 00:37:00 | 124                 | 8.9999              |\n",
       "| 1324355             | 2005-06-12 00:51:00 | 124                 | 1.9999              |\n",
       "| 1324355             | 2005-06-12 01:14:00 | 124                 | 4.9999              |\n",
       "| 1324355             | 2005-06-12 02:01:00 |  24                 | 1.8069              |\n",
       "| 1324355             | 2005-06-14 23:35:00 | 124                 | 4.9999              |\n",
       "| 1324355             | 2005-06-14 23:45:00 | 124                 | 4.9999              |\n",
       "\n"
      ],
      "text/plain": [
       "  UserID  TransDateTime       TransType TransAmount\n",
       "1 1324355 2005-06-12 00:37:00 124       8.9999     \n",
       "2 1324355 2005-06-12 00:51:00 124       1.9999     \n",
       "3 1324355 2005-06-12 01:14:00 124       4.9999     \n",
       "4 1324355 2005-06-12 02:01:00  24       1.8069     \n",
       "5 1324355 2005-06-14 23:35:00 124       4.9999     \n",
       "6 1324355 2005-06-14 23:45:00 124       4.9999     "
      ]
     },
     "metadata": {},
     "output_type": "display_data"
    }
   ],
   "source": [
    "#To check data values for an idea of what to clean\n",
    "\n",
    "head(pokerchips)"
   ]
  },
  {
   "cell_type": "code",
   "execution_count": 25,
   "metadata": {},
   "outputs": [
    {
     "name": "stdout",
     "output_type": "stream",
     "text": [
      "Classes 'tbl_df', 'tbl' and 'data.frame':\t277907 obs. of  4 variables:\n",
      " $ UserID       : num  1324355 1324355 1324355 1324355 1324355 ...\n",
      "  ..- attr(*, \"label\")= chr \"User ID\"\n",
      " $ TransDateTime: chr  \"2005-06-12 00:37:00\" \"2005-06-12 00:51:00\" \"2005-06-12 01:14:00\" \"2005-06-12 02:01:00\" ...\n",
      "  ..- attr(*, \"label\")= chr \"Transaction Date and Time\"\n",
      " $ TransType    : num  124 124 124 24 124 124 124 24 124 124 ...\n",
      "  ..- attr(*, \"label\")= chr \"Transaction Type, 124:Buy; 24:Sell\"\n",
      " $ TransAmount  : num  9 2 5 1.81 5 ...\n",
      "  ..- attr(*, \"label\")= chr \"Transaction Amount\"\n",
      " - attr(*, \"label\")= chr \"POKERCHIPCONVERSIONS\"\n"
     ]
    }
   ],
   "source": [
    "#To understand data structure\n",
    "\n",
    "str(pokerchips)"
   ]
  },
  {
   "cell_type": "code",
   "execution_count": 26,
   "metadata": {},
   "outputs": [
    {
     "name": "stdout",
     "output_type": "stream",
     "text": [
      "Observations: 277,907\n",
      "Variables: 4\n",
      "$ UserID        <dbl> 1324355, 1324355, 1324355, 1324355, 1324355, 1324355,...\n",
      "$ TransDateTime <chr> \"2005-06-12 00:37:00\", \"2005-06-12 00:51:00\", \"2005-0...\n",
      "$ TransType     <dbl> 124, 124, 124, 24, 124, 124, 124, 24, 124, 124, 24, 1...\n",
      "$ TransAmount   <dbl> 8.9999, 1.9999, 4.9999, 1.8069, 4.9999, 4.9999, 4.830...\n"
     ]
    }
   ],
   "source": [
    "glimpse(pokerchips)"
   ]
  },
  {
   "cell_type": "code",
   "execution_count": 27,
   "metadata": {},
   "outputs": [
    {
     "data": {
      "text/plain": [
       "     UserID        TransDateTime        TransType       TransAmount       \n",
       " Min.   :1324355   Length:277907      Min.   : 24.00   Min.   :    0.000  \n",
       " 1st Qu.:1341526   Class :character   1st Qu.: 24.00   1st Qu.:    4.207  \n",
       " Median :1360347   Mode  :character   Median :124.00   Median :   12.511  \n",
       " Mean   :1360872                      Mean   : 81.07   Mean   :   68.116  \n",
       " 3rd Qu.:1379968                      3rd Qu.:124.00   3rd Qu.:   35.000  \n",
       " Max.   :1402198                      Max.   :124.00   Max.   :15995.527  "
      ]
     },
     "metadata": {},
     "output_type": "display_data"
    }
   ],
   "source": [
    "#To understand the data values\n",
    "\n",
    "summary(pokerchips)"
   ]
  },
  {
   "cell_type": "code",
   "execution_count": 28,
   "metadata": {},
   "outputs": [
    {
     "data": {
      "text/html": [
       "FALSE"
      ],
      "text/latex": [
       "FALSE"
      ],
      "text/markdown": [
       "FALSE"
      ],
      "text/plain": [
       "[1] FALSE"
      ]
     },
     "metadata": {},
     "output_type": "display_data"
    }
   ],
   "source": [
    "#Check missing values\n",
    "\n",
    "any(is.na(pokerchips))"
   ]
  },
  {
   "cell_type": "code",
   "execution_count": 29,
   "metadata": {},
   "outputs": [],
   "source": [
    "#Import stringr to replace values\n",
    "\n",
    "library(stringr)"
   ]
  },
  {
   "cell_type": "code",
   "execution_count": 30,
   "metadata": {},
   "outputs": [],
   "source": [
    "#\"1\" refers to sell, \"0\" refers to buy\n",
    "\n",
    "pokerchips$TransType <- str_replace(pokerchips$TransType, \"124\", \"1\")\n",
    "pokerchips$TransType <- str_replace(pokerchips$TransType, \"24\", \"0\")"
   ]
  },
  {
   "cell_type": "code",
   "execution_count": 31,
   "metadata": {},
   "outputs": [
    {
     "data": {
      "text/html": [
       "'character'"
      ],
      "text/latex": [
       "'character'"
      ],
      "text/markdown": [
       "'character'"
      ],
      "text/plain": [
       "[1] \"character\""
      ]
     },
     "metadata": {},
     "output_type": "display_data"
    }
   ],
   "source": [
    "#Checking the class of TransType column\n",
    "\n",
    "class(pokerchips$TransType)"
   ]
  },
  {
   "cell_type": "code",
   "execution_count": 32,
   "metadata": {},
   "outputs": [],
   "source": [
    "#Converting TransType to numeric\n",
    "\n",
    "pokerchips$TransType <- as.numeric(pokerchips$TransType)"
   ]
  },
  {
   "cell_type": "code",
   "execution_count": 33,
   "metadata": {
    "scrolled": true
   },
   "outputs": [
    {
     "data": {
      "text/html": [
       "'numeric'"
      ],
      "text/latex": [
       "'numeric'"
      ],
      "text/markdown": [
       "'numeric'"
      ],
      "text/plain": [
       "[1] \"numeric\""
      ]
     },
     "metadata": {},
     "output_type": "display_data"
    }
   ],
   "source": [
    "class(pokerchips$TransType)"
   ]
  },
  {
   "cell_type": "code",
   "execution_count": 34,
   "metadata": {},
   "outputs": [
    {
     "data": {
      "text/html": [
       "<ol class=list-inline>\n",
       "\t<li>1</li>\n",
       "\t<li>0</li>\n",
       "</ol>\n"
      ],
      "text/latex": [
       "\\begin{enumerate*}\n",
       "\\item 1\n",
       "\\item 0\n",
       "\\end{enumerate*}\n"
      ],
      "text/markdown": [
       "1. 1\n",
       "2. 0\n",
       "\n",
       "\n"
      ],
      "text/plain": [
       "[1] 1 0"
      ]
     },
     "metadata": {},
     "output_type": "display_data"
    }
   ],
   "source": [
    "#Checking to see if all data has been adequately replaced\n",
    "\n",
    "unique(pokerchips$TransType)"
   ]
  },
  {
   "cell_type": "code",
   "execution_count": 35,
   "metadata": {},
   "outputs": [
    {
     "data": {
      "text/html": [
       "'numeric'"
      ],
      "text/latex": [
       "'numeric'"
      ],
      "text/markdown": [
       "'numeric'"
      ],
      "text/plain": [
       "[1] \"numeric\""
      ]
     },
     "metadata": {},
     "output_type": "display_data"
    }
   ],
   "source": [
    "#Checking the class of TransAmount column\n",
    "\n",
    "class(pokerchips$TransAmount)"
   ]
  },
  {
   "cell_type": "markdown",
   "metadata": {},
   "source": [
    "<p>&nbsp;</p>\n",
    "\n",
    "\n",
    "\n",
    "#### Reading, understanding and cleaning the 'User Daily Aggregation' Dataset"
   ]
  },
  {
   "cell_type": "code",
   "execution_count": 36,
   "metadata": {},
   "outputs": [],
   "source": [
    "#Importing User Daily Aggregation dataset\n",
    "\n",
    "userdaily <- read_sas(\"C:\\\\Users\\\\kfernandes\\\\Desktop\\\\Kripa Fernandes\\\\R Group Project\\\\RawDataIIUserDailyAggregation.sas7bdat\")"
   ]
  },
  {
   "cell_type": "code",
   "execution_count": 37,
   "metadata": {},
   "outputs": [
    {
     "data": {
      "text/html": [
       "<ol class=list-inline>\n",
       "\t<li>'tbl_df'</li>\n",
       "\t<li>'tbl'</li>\n",
       "\t<li>'data.frame'</li>\n",
       "</ol>\n"
      ],
      "text/latex": [
       "\\begin{enumerate*}\n",
       "\\item 'tbl\\_df'\n",
       "\\item 'tbl'\n",
       "\\item 'data.frame'\n",
       "\\end{enumerate*}\n"
      ],
      "text/markdown": [
       "1. 'tbl_df'\n",
       "2. 'tbl'\n",
       "3. 'data.frame'\n",
       "\n",
       "\n"
      ],
      "text/plain": [
       "[1] \"tbl_df\"     \"tbl\"        \"data.frame\""
      ]
     },
     "metadata": {},
     "output_type": "display_data"
    }
   ],
   "source": [
    "#To check type of data\n",
    "\n",
    "class(userdaily)"
   ]
  },
  {
   "cell_type": "code",
   "execution_count": 38,
   "metadata": {},
   "outputs": [
    {
     "data": {
      "text/html": [
       "<ol class=list-inline>\n",
       "\t<li>'UserID'</li>\n",
       "\t<li>'Date'</li>\n",
       "\t<li>'ProductID'</li>\n",
       "\t<li>'Stakes'</li>\n",
       "\t<li>'Winnings'</li>\n",
       "\t<li>'Bets'</li>\n",
       "</ol>\n"
      ],
      "text/latex": [
       "\\begin{enumerate*}\n",
       "\\item 'UserID'\n",
       "\\item 'Date'\n",
       "\\item 'ProductID'\n",
       "\\item 'Stakes'\n",
       "\\item 'Winnings'\n",
       "\\item 'Bets'\n",
       "\\end{enumerate*}\n"
      ],
      "text/markdown": [
       "1. 'UserID'\n",
       "2. 'Date'\n",
       "3. 'ProductID'\n",
       "4. 'Stakes'\n",
       "5. 'Winnings'\n",
       "6. 'Bets'\n",
       "\n",
       "\n"
      ],
      "text/plain": [
       "[1] \"UserID\"    \"Date\"      \"ProductID\" \"Stakes\"    \"Winnings\"  \"Bets\"     "
      ]
     },
     "metadata": {},
     "output_type": "display_data"
    }
   ],
   "source": [
    "#To check column names of data frame\n",
    "\n",
    "names(userdaily)"
   ]
  },
  {
   "cell_type": "code",
   "execution_count": 39,
   "metadata": {},
   "outputs": [
    {
     "data": {
      "text/html": [
       "<ol class=list-inline>\n",
       "\t<li>1740196</li>\n",
       "\t<li>6</li>\n",
       "</ol>\n"
      ],
      "text/latex": [
       "\\begin{enumerate*}\n",
       "\\item 1740196\n",
       "\\item 6\n",
       "\\end{enumerate*}\n"
      ],
      "text/markdown": [
       "1. 1740196\n",
       "2. 6\n",
       "\n",
       "\n"
      ],
      "text/plain": [
       "[1] 1740196       6"
      ]
     },
     "metadata": {},
     "output_type": "display_data"
    }
   ],
   "source": [
    "#To check dimensions of data frame: Rows (1740196) and Columns (6)\n",
    "\n",
    "dim(userdaily)"
   ]
  },
  {
   "cell_type": "code",
   "execution_count": 40,
   "metadata": {},
   "outputs": [
    {
     "data": {
      "text/html": [
       "<table>\n",
       "<thead><tr><th scope=col>UserID</th><th scope=col>Date</th><th scope=col>ProductID</th><th scope=col>Stakes</th><th scope=col>Winnings</th><th scope=col>Bets</th></tr></thead>\n",
       "<tbody>\n",
       "\t<tr><td>1324354 </td><td>20050224</td><td>1       </td><td>20      </td><td>0       </td><td>2       </td></tr>\n",
       "\t<tr><td>1324354 </td><td>20050225</td><td>1       </td><td> 0      </td><td>0       </td><td>0       </td></tr>\n",
       "\t<tr><td>1324354 </td><td>20050227</td><td>1       </td><td>20      </td><td>0       </td><td>2       </td></tr>\n",
       "\t<tr><td>1324354 </td><td>20050303</td><td>1       </td><td>10      </td><td>0       </td><td>1       </td></tr>\n",
       "\t<tr><td>1324354 </td><td>20050304</td><td>1       </td><td>10      </td><td>0       </td><td>1       </td></tr>\n",
       "\t<tr><td>1324354 </td><td>20050305</td><td>1       </td><td>10      </td><td>0       </td><td>1       </td></tr>\n",
       "</tbody>\n",
       "</table>\n"
      ],
      "text/latex": [
       "\\begin{tabular}{r|llllll}\n",
       " UserID & Date & ProductID & Stakes & Winnings & Bets\\\\\n",
       "\\hline\n",
       "\t 1324354  & 20050224 & 1        & 20       & 0        & 2       \\\\\n",
       "\t 1324354  & 20050225 & 1        &  0       & 0        & 0       \\\\\n",
       "\t 1324354  & 20050227 & 1        & 20       & 0        & 2       \\\\\n",
       "\t 1324354  & 20050303 & 1        & 10       & 0        & 1       \\\\\n",
       "\t 1324354  & 20050304 & 1        & 10       & 0        & 1       \\\\\n",
       "\t 1324354  & 20050305 & 1        & 10       & 0        & 1       \\\\\n",
       "\\end{tabular}\n"
      ],
      "text/markdown": [
       "\n",
       "| UserID | Date | ProductID | Stakes | Winnings | Bets |\n",
       "|---|---|---|---|---|---|\n",
       "| 1324354  | 20050224 | 1        | 20       | 0        | 2        |\n",
       "| 1324354  | 20050225 | 1        |  0       | 0        | 0        |\n",
       "| 1324354  | 20050227 | 1        | 20       | 0        | 2        |\n",
       "| 1324354  | 20050303 | 1        | 10       | 0        | 1        |\n",
       "| 1324354  | 20050304 | 1        | 10       | 0        | 1        |\n",
       "| 1324354  | 20050305 | 1        | 10       | 0        | 1        |\n",
       "\n"
      ],
      "text/plain": [
       "  UserID  Date     ProductID Stakes Winnings Bets\n",
       "1 1324354 20050224 1         20     0        2   \n",
       "2 1324354 20050225 1          0     0        0   \n",
       "3 1324354 20050227 1         20     0        2   \n",
       "4 1324354 20050303 1         10     0        1   \n",
       "5 1324354 20050304 1         10     0        1   \n",
       "6 1324354 20050305 1         10     0        1   "
      ]
     },
     "metadata": {},
     "output_type": "display_data"
    }
   ],
   "source": [
    "#To check data values for an idea of what to clean\n",
    "\n",
    "head(userdaily)"
   ]
  },
  {
   "cell_type": "code",
   "execution_count": 41,
   "metadata": {},
   "outputs": [
    {
     "data": {
      "text/html": [
       "<table>\n",
       "<thead><tr><th scope=col>UserID</th><th scope=col>Date</th><th scope=col>ProductID</th><th scope=col>Stakes</th><th scope=col>Winnings</th><th scope=col>Bets</th></tr></thead>\n",
       "<tbody>\n",
       "\t<tr><td>1405189 </td><td>20050521</td><td>1       </td><td> 2.0    </td><td>5.5     </td><td> 1      </td></tr>\n",
       "\t<tr><td>1405189 </td><td>20050524</td><td>1       </td><td> 0.5    </td><td>0.0     </td><td> 1      </td></tr>\n",
       "\t<tr><td>1405189 </td><td>20050526</td><td>1       </td><td> 0.0    </td><td>0.0     </td><td> 0      </td></tr>\n",
       "\t<tr><td>1405190 </td><td>20050303</td><td>1       </td><td>50.0    </td><td>0.0     </td><td>10      </td></tr>\n",
       "\t<tr><td>1405190 </td><td>20050305</td><td>1       </td><td> 0.0    </td><td>0.0     </td><td> 0      </td></tr>\n",
       "\t<tr><td>1405190 </td><td>20050308</td><td>1       </td><td> 0.0    </td><td>0.0     </td><td> 0      </td></tr>\n",
       "</tbody>\n",
       "</table>\n"
      ],
      "text/latex": [
       "\\begin{tabular}{r|llllll}\n",
       " UserID & Date & ProductID & Stakes & Winnings & Bets\\\\\n",
       "\\hline\n",
       "\t 1405189  & 20050521 & 1        &  2.0     & 5.5      &  1      \\\\\n",
       "\t 1405189  & 20050524 & 1        &  0.5     & 0.0      &  1      \\\\\n",
       "\t 1405189  & 20050526 & 1        &  0.0     & 0.0      &  0      \\\\\n",
       "\t 1405190  & 20050303 & 1        & 50.0     & 0.0      & 10      \\\\\n",
       "\t 1405190  & 20050305 & 1        &  0.0     & 0.0      &  0      \\\\\n",
       "\t 1405190  & 20050308 & 1        &  0.0     & 0.0      &  0      \\\\\n",
       "\\end{tabular}\n"
      ],
      "text/markdown": [
       "\n",
       "| UserID | Date | ProductID | Stakes | Winnings | Bets |\n",
       "|---|---|---|---|---|---|\n",
       "| 1405189  | 20050521 | 1        |  2.0     | 5.5      |  1       |\n",
       "| 1405189  | 20050524 | 1        |  0.5     | 0.0      |  1       |\n",
       "| 1405189  | 20050526 | 1        |  0.0     | 0.0      |  0       |\n",
       "| 1405190  | 20050303 | 1        | 50.0     | 0.0      | 10       |\n",
       "| 1405190  | 20050305 | 1        |  0.0     | 0.0      |  0       |\n",
       "| 1405190  | 20050308 | 1        |  0.0     | 0.0      |  0       |\n",
       "\n"
      ],
      "text/plain": [
       "  UserID  Date     ProductID Stakes Winnings Bets\n",
       "1 1405189 20050521 1          2.0   5.5       1  \n",
       "2 1405189 20050524 1          0.5   0.0       1  \n",
       "3 1405189 20050526 1          0.0   0.0       0  \n",
       "4 1405190 20050303 1         50.0   0.0      10  \n",
       "5 1405190 20050305 1          0.0   0.0       0  \n",
       "6 1405190 20050308 1          0.0   0.0       0  "
      ]
     },
     "metadata": {},
     "output_type": "display_data"
    }
   ],
   "source": [
    "tail(userdaily)"
   ]
  },
  {
   "cell_type": "code",
   "execution_count": 42,
   "metadata": {},
   "outputs": [
    {
     "data": {
      "text/html": [
       "<ol class=list-inline>\n",
       "\t<li>1</li>\n",
       "\t<li>2</li>\n",
       "\t<li>8</li>\n",
       "\t<li>6</li>\n",
       "\t<li>7</li>\n",
       "\t<li>4</li>\n",
       "\t<li>5</li>\n",
       "</ol>\n"
      ],
      "text/latex": [
       "\\begin{enumerate*}\n",
       "\\item 1\n",
       "\\item 2\n",
       "\\item 8\n",
       "\\item 6\n",
       "\\item 7\n",
       "\\item 4\n",
       "\\item 5\n",
       "\\end{enumerate*}\n"
      ],
      "text/markdown": [
       "1. 1\n",
       "2. 2\n",
       "3. 8\n",
       "4. 6\n",
       "5. 7\n",
       "6. 4\n",
       "7. 5\n",
       "\n",
       "\n"
      ],
      "text/plain": [
       "[1] 1 2 8 6 7 4 5"
      ]
     },
     "metadata": {},
     "output_type": "display_data"
    }
   ],
   "source": [
    "#Find unique Product IDs: 1 2 8 6 7 4 5. We observe that Product 3 is not in this set.\n",
    "\n",
    "unique(userdaily$ProductID)"
   ]
  },
  {
   "cell_type": "code",
   "execution_count": 43,
   "metadata": {},
   "outputs": [
    {
     "data": {
      "text/html": [
       "43851"
      ],
      "text/latex": [
       "43851"
      ],
      "text/markdown": [
       "43851"
      ],
      "text/plain": [
       "[1] 43851"
      ]
     },
     "metadata": {},
     "output_type": "display_data"
    }
   ],
   "source": [
    "#Checking number of unique users for this dataset\n",
    "\n",
    "length(unique(userdaily$UserID))"
   ]
  },
  {
   "cell_type": "code",
   "execution_count": 44,
   "metadata": {},
   "outputs": [
    {
     "name": "stdout",
     "output_type": "stream",
     "text": [
      "Classes 'tbl_df', 'tbl' and 'data.frame':\t1740196 obs. of  6 variables:\n",
      " $ UserID   : num  1324354 1324354 1324354 1324354 1324354 ...\n",
      "  ..- attr(*, \"label\")= chr \"User ID\"\n",
      " $ Date     : chr  \"20050224\" \"20050225\" \"20050227\" \"20050303\" ...\n",
      "  ..- attr(*, \"label\")= chr \"Aggregation Date\"\n",
      " $ ProductID: num  1 1 1 1 1 1 1 1 1 1 ...\n",
      "  ..- attr(*, \"label\")= chr \"Product ID\"\n",
      " $ Stakes   : num  20 0 20 10 10 10 10 20 10 10 ...\n",
      "  ..- attr(*, \"label\")= chr \"Total stakes on a given day\"\n",
      " $ Winnings : num  0 0 0 0 0 0 0 0 0 0 ...\n",
      "  ..- attr(*, \"label\")= chr \"Total winnings on a given day\"\n",
      " $ Bets     : num  2 0 2 1 1 1 1 3 1 1 ...\n",
      "  ..- attr(*, \"label\")= chr \"Total number of bets on a given day\"\n",
      " - attr(*, \"label\")= chr \"USERDAILYAGGREGATION\"\n"
     ]
    }
   ],
   "source": [
    "#To understand data structure\n",
    "\n",
    "str(userdaily)"
   ]
  },
  {
   "cell_type": "code",
   "execution_count": 45,
   "metadata": {},
   "outputs": [
    {
     "name": "stdout",
     "output_type": "stream",
     "text": [
      "Observations: 1,740,196\n",
      "Variables: 6\n",
      "$ UserID    <dbl> 1324354, 1324354, 1324354, 1324354, 1324354, 1324354, 132...\n",
      "$ Date      <chr> \"20050224\", \"20050225\", \"20050227\", \"20050303\", \"20050304...\n",
      "$ ProductID <dbl> 1, 1, 1, 1, 1, 1, 1, 1, 1, 1, 1, 1, 1, 1, 1, 1, 1, 1, 1, ...\n",
      "$ Stakes    <dbl> 20.00, 0.00, 20.00, 10.00, 10.00, 10.00, 10.00, 20.00, 10...\n",
      "$ Winnings  <dbl> 0.00, 0.00, 0.00, 0.00, 0.00, 0.00, 0.00, 0.00, 0.00, 0.0...\n",
      "$ Bets      <dbl> 2, 0, 2, 1, 1, 1, 1, 3, 1, 1, 1, 1, 0, 1, 0, 3, 1, 2, 2, ...\n"
     ]
    }
   ],
   "source": [
    "glimpse(userdaily)"
   ]
  },
  {
   "cell_type": "code",
   "execution_count": 46,
   "metadata": {},
   "outputs": [
    {
     "data": {
      "text/plain": [
       "     UserID            Date             ProductID        Stakes         \n",
       " Min.   :1324354   Length:1740196     Min.   :1.00   Min.   :   -28.30  \n",
       " 1st Qu.:1343655   Class :character   1st Qu.:1.00   1st Qu.:     1.22  \n",
       " Median :1362683   Mode  :character   Median :1.00   Median :     6.75  \n",
       " Mean   :1363692                      Mean   :1.44   Mean   :    69.79  \n",
       " 3rd Qu.:1383391                      3rd Qu.:1.00   3rd Qu.:    23.35  \n",
       " Max.   :1405190                      Max.   :8.00   Max.   :272415.50  \n",
       "    Winnings              Bets         \n",
       " Min.   :   -40.00   Min.   :  -1.000  \n",
       " 1st Qu.:     0.00   1st Qu.:   1.000  \n",
       " Median :     0.00   Median :   2.000  \n",
       " Mean   :    65.02   Mean   :   9.134  \n",
       " 3rd Qu.:    15.50   3rd Qu.:   5.000  \n",
       " Max.   :270222.00   Max.   :6223.000  "
      ]
     },
     "metadata": {},
     "output_type": "display_data"
    }
   ],
   "source": [
    "#To understand the data values\n",
    "\n",
    "summary(userdaily)"
   ]
  },
  {
   "cell_type": "code",
   "execution_count": 47,
   "metadata": {},
   "outputs": [
    {
     "data": {
      "text/html": [
       "FALSE"
      ],
      "text/latex": [
       "FALSE"
      ],
      "text/markdown": [
       "FALSE"
      ],
      "text/plain": [
       "[1] FALSE"
      ]
     },
     "metadata": {},
     "output_type": "display_data"
    }
   ],
   "source": [
    "#Check missing values\n",
    "\n",
    "any(is.na(userdaily))"
   ]
  },
  {
   "cell_type": "code",
   "execution_count": 48,
   "metadata": {},
   "outputs": [],
   "source": [
    "#Replace negative values with 0 - correcting the computer error\n",
    "\n",
    "userdaily$Stakes[userdaily$Stakes<0] <- 0\n",
    "userdaily$Winnings[userdaily$Winnings<0] <- 0\n",
    "userdaily$Bets[userdaily$Bets<0] <- 0"
   ]
  },
  {
   "cell_type": "code",
   "execution_count": 49,
   "metadata": {},
   "outputs": [
    {
     "data": {
      "text/html": [
       "0"
      ],
      "text/latex": [
       "0"
      ],
      "text/markdown": [
       "0"
      ],
      "text/plain": [
       "[1] 0"
      ]
     },
     "metadata": {},
     "output_type": "display_data"
    },
    {
     "data": {
      "text/html": [
       "272415.5"
      ],
      "text/latex": [
       "272415.5"
      ],
      "text/markdown": [
       "272415.5"
      ],
      "text/plain": [
       "[1] 272415.5"
      ]
     },
     "metadata": {},
     "output_type": "display_data"
    },
    {
     "data": {
      "text/html": [
       "0"
      ],
      "text/latex": [
       "0"
      ],
      "text/markdown": [
       "0"
      ],
      "text/plain": [
       "[1] 0"
      ]
     },
     "metadata": {},
     "output_type": "display_data"
    },
    {
     "data": {
      "text/html": [
       "270222"
      ],
      "text/latex": [
       "270222"
      ],
      "text/markdown": [
       "270222"
      ],
      "text/plain": [
       "[1] 270222"
      ]
     },
     "metadata": {},
     "output_type": "display_data"
    },
    {
     "data": {
      "text/html": [
       "0"
      ],
      "text/latex": [
       "0"
      ],
      "text/markdown": [
       "0"
      ],
      "text/plain": [
       "[1] 0"
      ]
     },
     "metadata": {},
     "output_type": "display_data"
    },
    {
     "data": {
      "text/html": [
       "6223"
      ],
      "text/latex": [
       "6223"
      ],
      "text/markdown": [
       "6223"
      ],
      "text/plain": [
       "[1] 6223"
      ]
     },
     "metadata": {},
     "output_type": "display_data"
    }
   ],
   "source": [
    "#To check if data matches codebook and if negative values have been replaced\n",
    "\n",
    "min(userdaily$Stakes)\n",
    "max(userdaily$Stakes)\n",
    "min(userdaily$Winnings)\n",
    "max(userdaily$Winnings)\n",
    "min(userdaily$Bets)\n",
    "max(userdaily$Bets)"
   ]
  },
  {
   "cell_type": "code",
   "execution_count": 50,
   "metadata": {},
   "outputs": [],
   "source": [
    "#Converting date into date format using lubridate function\n",
    "\n",
    "userdaily$Date <- ymd(userdaily$Date)"
   ]
  },
  {
   "cell_type": "code",
   "execution_count": 51,
   "metadata": {},
   "outputs": [
    {
     "data": {
      "text/html": [
       "'Date'"
      ],
      "text/latex": [
       "'Date'"
      ],
      "text/markdown": [
       "'Date'"
      ],
      "text/plain": [
       "[1] \"Date\""
      ]
     },
     "metadata": {},
     "output_type": "display_data"
    }
   ],
   "source": [
    "class(userdaily$Date)"
   ]
  },
  {
   "cell_type": "code",
   "execution_count": 52,
   "metadata": {},
   "outputs": [
    {
     "data": {
      "text/html": [
       "<time datetime=\"2005-02-01\">2005-02-01</time>"
      ],
      "text/latex": [
       "2005-02-01"
      ],
      "text/markdown": [
       "2005-02-01"
      ],
      "text/plain": [
       "[1] \"2005-02-01\""
      ]
     },
     "metadata": {},
     "output_type": "display_data"
    },
    {
     "data": {
      "text/html": [
       "<time datetime=\"2005-09-30\">2005-09-30</time>"
      ],
      "text/latex": [
       "2005-09-30"
      ],
      "text/markdown": [
       "2005-09-30"
      ],
      "text/plain": [
       "[1] \"2005-09-30\""
      ]
     },
     "metadata": {},
     "output_type": "display_data"
    }
   ],
   "source": [
    "min(userdaily$Date)\n",
    "max(userdaily$Date)"
   ]
  },
  {
   "cell_type": "markdown",
   "metadata": {},
   "source": [
    "<p>&nbsp;</p>\n",
    "\n",
    "\n",
    "\n",
    "#### Reading, understanding and cleaning the 'Analytic' Dataset"
   ]
  },
  {
   "cell_type": "code",
   "execution_count": 53,
   "metadata": {},
   "outputs": [],
   "source": [
    "#Importing User Daily Aggregation dataset\n",
    "\n",
    "analyticdata <- read_sas(\"C:\\\\Users\\\\kfernandes\\\\Desktop\\\\Kripa Fernandes\\\\R Group Project\\\\AnalyticDataInternetGambling.sas7bdat\")"
   ]
  },
  {
   "cell_type": "code",
   "execution_count": 54,
   "metadata": {},
   "outputs": [
    {
     "data": {
      "text/html": [
       "<ol class=list-inline>\n",
       "\t<li>'tbl_df'</li>\n",
       "\t<li>'tbl'</li>\n",
       "\t<li>'data.frame'</li>\n",
       "</ol>\n"
      ],
      "text/latex": [
       "\\begin{enumerate*}\n",
       "\\item 'tbl\\_df'\n",
       "\\item 'tbl'\n",
       "\\item 'data.frame'\n",
       "\\end{enumerate*}\n"
      ],
      "text/markdown": [
       "1. 'tbl_df'\n",
       "2. 'tbl'\n",
       "3. 'data.frame'\n",
       "\n",
       "\n"
      ],
      "text/plain": [
       "[1] \"tbl_df\"     \"tbl\"        \"data.frame\""
      ]
     },
     "metadata": {},
     "output_type": "display_data"
    }
   ],
   "source": [
    "#To check type of data\n",
    "\n",
    "class(analyticdata)"
   ]
  },
  {
   "cell_type": "code",
   "execution_count": 55,
   "metadata": {},
   "outputs": [
    {
     "data": {
      "text/html": [
       "<ol class=list-inline>\n",
       "\t<li>'USERID'</li>\n",
       "\t<li>'COUNTRY'</li>\n",
       "\t<li>'LANGUAGE'</li>\n",
       "\t<li>'RegistrationDate'</li>\n",
       "\t<li>'AGE'</li>\n",
       "\t<li>'GENDER'</li>\n",
       "\t<li>'FOTotalStakes'</li>\n",
       "\t<li>'FOTotalWinnings'</li>\n",
       "\t<li>'FOTotalBets'</li>\n",
       "\t<li>'FOFirstActiveDate'</li>\n",
       "\t<li>'FOLastActiveDate'</li>\n",
       "\t<li>'FOTotalDaysActive'</li>\n",
       "\t<li>'LATotalStakes'</li>\n",
       "\t<li>'LATotalWinnings'</li>\n",
       "\t<li>'LATotalBets'</li>\n",
       "\t<li>'LAFirstActiveDate'</li>\n",
       "\t<li>'LALastActiveDate'</li>\n",
       "\t<li>'LATotalDaysActive'</li>\n",
       "\t<li>'FirstSportsActiveDate'</li>\n",
       "</ol>\n"
      ],
      "text/latex": [
       "\\begin{enumerate*}\n",
       "\\item 'USERID'\n",
       "\\item 'COUNTRY'\n",
       "\\item 'LANGUAGE'\n",
       "\\item 'RegistrationDate'\n",
       "\\item 'AGE'\n",
       "\\item 'GENDER'\n",
       "\\item 'FOTotalStakes'\n",
       "\\item 'FOTotalWinnings'\n",
       "\\item 'FOTotalBets'\n",
       "\\item 'FOFirstActiveDate'\n",
       "\\item 'FOLastActiveDate'\n",
       "\\item 'FOTotalDaysActive'\n",
       "\\item 'LATotalStakes'\n",
       "\\item 'LATotalWinnings'\n",
       "\\item 'LATotalBets'\n",
       "\\item 'LAFirstActiveDate'\n",
       "\\item 'LALastActiveDate'\n",
       "\\item 'LATotalDaysActive'\n",
       "\\item 'FirstSportsActiveDate'\n",
       "\\end{enumerate*}\n"
      ],
      "text/markdown": [
       "1. 'USERID'\n",
       "2. 'COUNTRY'\n",
       "3. 'LANGUAGE'\n",
       "4. 'RegistrationDate'\n",
       "5. 'AGE'\n",
       "6. 'GENDER'\n",
       "7. 'FOTotalStakes'\n",
       "8. 'FOTotalWinnings'\n",
       "9. 'FOTotalBets'\n",
       "10. 'FOFirstActiveDate'\n",
       "11. 'FOLastActiveDate'\n",
       "12. 'FOTotalDaysActive'\n",
       "13. 'LATotalStakes'\n",
       "14. 'LATotalWinnings'\n",
       "15. 'LATotalBets'\n",
       "16. 'LAFirstActiveDate'\n",
       "17. 'LALastActiveDate'\n",
       "18. 'LATotalDaysActive'\n",
       "19. 'FirstSportsActiveDate'\n",
       "\n",
       "\n"
      ],
      "text/plain": [
       " [1] \"USERID\"                \"COUNTRY\"               \"LANGUAGE\"             \n",
       " [4] \"RegistrationDate\"      \"AGE\"                   \"GENDER\"               \n",
       " [7] \"FOTotalStakes\"         \"FOTotalWinnings\"       \"FOTotalBets\"          \n",
       "[10] \"FOFirstActiveDate\"     \"FOLastActiveDate\"      \"FOTotalDaysActive\"    \n",
       "[13] \"LATotalStakes\"         \"LATotalWinnings\"       \"LATotalBets\"          \n",
       "[16] \"LAFirstActiveDate\"     \"LALastActiveDate\"      \"LATotalDaysActive\"    \n",
       "[19] \"FirstSportsActiveDate\""
      ]
     },
     "metadata": {},
     "output_type": "display_data"
    }
   ],
   "source": [
    "#To check column names of data frame\n",
    "\n",
    "names(analyticdata)"
   ]
  },
  {
   "cell_type": "code",
   "execution_count": 56,
   "metadata": {},
   "outputs": [
    {
     "data": {
      "text/html": [
       "<ol class=list-inline>\n",
       "\t<li>40499</li>\n",
       "\t<li>19</li>\n",
       "</ol>\n"
      ],
      "text/latex": [
       "\\begin{enumerate*}\n",
       "\\item 40499\n",
       "\\item 19\n",
       "\\end{enumerate*}\n"
      ],
      "text/markdown": [
       "1. 40499\n",
       "2. 19\n",
       "\n",
       "\n"
      ],
      "text/plain": [
       "[1] 40499    19"
      ]
     },
     "metadata": {},
     "output_type": "display_data"
    }
   ],
   "source": [
    "#To check dimensions of data frame: Rows (40499) and Columns (19)\n",
    "\n",
    "dim(analyticdata)"
   ]
  },
  {
   "cell_type": "code",
   "execution_count": 57,
   "metadata": {},
   "outputs": [
    {
     "data": {
      "text/html": [
       "<table>\n",
       "<thead><tr><th scope=col>USERID</th><th scope=col>COUNTRY</th><th scope=col>LANGUAGE</th><th scope=col>RegistrationDate</th><th scope=col>AGE</th><th scope=col>GENDER</th><th scope=col>FOTotalStakes</th><th scope=col>FOTotalWinnings</th><th scope=col>FOTotalBets</th><th scope=col>FOFirstActiveDate</th><th scope=col>FOLastActiveDate</th><th scope=col>FOTotalDaysActive</th><th scope=col>LATotalStakes</th><th scope=col>LATotalWinnings</th><th scope=col>LATotalBets</th><th scope=col>LAFirstActiveDate</th><th scope=col>LALastActiveDate</th><th scope=col>LATotalDaysActive</th><th scope=col>FirstSportsActiveDate</th></tr></thead>\n",
       "<tbody>\n",
       "\t<tr><td>1324354   </td><td>276       </td><td>2         </td><td>2005-02-01</td><td>42        </td><td>1         </td><td>10137.3300</td><td>10224.1200</td><td>236       </td><td>2005-02-24</td><td>2005-09-30</td><td>97        </td><td>1839.2800 </td><td>1512.4900 </td><td> 43       </td><td>2005-05-04</td><td>2005-09-26</td><td>18        </td><td>2005-02-24</td></tr>\n",
       "\t<tr><td>1324355   </td><td>300       </td><td>8         </td><td>2005-02-01</td><td>22        </td><td>1         </td><td>  400.8600</td><td>  453.3000</td><td>231       </td><td>2005-02-01</td><td>2005-09-29</td><td>72        </td><td>  24.7000 </td><td>  11.2000 </td><td> 21       </td><td>2005-02-01</td><td>2005-02-07</td><td> 7        </td><td>2005-02-01</td></tr>\n",
       "\t<tr><td>1324356   </td><td>276       </td><td>2         </td><td>2005-02-01</td><td>28        </td><td>1         </td><td>  686.1900</td><td>  285.5100</td><td> 98       </td><td>2005-02-02</td><td>2005-09-12</td><td>38        </td><td> 679.0700 </td><td> 625.1500 </td><td>116       </td><td>2005-02-02</td><td>2005-09-11</td><td>23        </td><td>2005-02-02</td></tr>\n",
       "\t<tr><td>1324358   </td><td>752       </td><td>1         </td><td>2005-02-01</td><td>24        </td><td>1         </td><td>  247.6971</td><td>  153.8756</td><td>  7       </td><td>2005-02-01</td><td>2005-05-06</td><td> 5        </td><td>  88.5927 </td><td>  55.9819 </td><td>  4       </td><td>2005-05-03</td><td>2005-05-03</td><td> 1        </td><td>2005-02-01</td></tr>\n",
       "\t<tr><td>1324360   </td><td>792       </td><td>7         </td><td>2005-02-01</td><td>27        </td><td>1         </td><td>   59.9993</td><td>   39.9564</td><td> 40       </td><td>2005-02-02</td><td>2005-09-25</td><td>17        </td><td>   1.7434 </td><td>   1.2009 </td><td>  3       </td><td>2005-02-12</td><td>2005-09-21</td><td> 2        </td><td>2005-02-02</td></tr>\n",
       "\t<tr><td>1324362   </td><td>276       </td><td>2         </td><td>2005-02-01</td><td>22        </td><td>1         </td><td>   22.0000</td><td>    0.0000</td><td>  7       </td><td>2005-02-11</td><td>2005-09-17</td><td> 5        </td><td>       NA </td><td>       NA </td><td> NA       </td><td>NA        </td><td>NA        </td><td>NA        </td><td>2005-02-11</td></tr>\n",
       "</tbody>\n",
       "</table>\n"
      ],
      "text/latex": [
       "\\begin{tabular}{r|lllllllllllllllllll}\n",
       " USERID & COUNTRY & LANGUAGE & RegistrationDate & AGE & GENDER & FOTotalStakes & FOTotalWinnings & FOTotalBets & FOFirstActiveDate & FOLastActiveDate & FOTotalDaysActive & LATotalStakes & LATotalWinnings & LATotalBets & LAFirstActiveDate & LALastActiveDate & LATotalDaysActive & FirstSportsActiveDate\\\\\n",
       "\\hline\n",
       "\t 1324354    & 276        & 2          & 2005-02-01 & 42         & 1          & 10137.3300 & 10224.1200 & 236        & 2005-02-24 & 2005-09-30 & 97         & 1839.2800  & 1512.4900  &  43        & 2005-05-04 & 2005-09-26 & 18         & 2005-02-24\\\\\n",
       "\t 1324355    & 300        & 8          & 2005-02-01 & 22         & 1          &   400.8600 &   453.3000 & 231        & 2005-02-01 & 2005-09-29 & 72         &   24.7000  &   11.2000  &  21        & 2005-02-01 & 2005-02-07 &  7         & 2005-02-01\\\\\n",
       "\t 1324356    & 276        & 2          & 2005-02-01 & 28         & 1          &   686.1900 &   285.5100 &  98        & 2005-02-02 & 2005-09-12 & 38         &  679.0700  &  625.1500  & 116        & 2005-02-02 & 2005-09-11 & 23         & 2005-02-02\\\\\n",
       "\t 1324358    & 752        & 1          & 2005-02-01 & 24         & 1          &   247.6971 &   153.8756 &   7        & 2005-02-01 & 2005-05-06 &  5         &   88.5927  &   55.9819  &   4        & 2005-05-03 & 2005-05-03 &  1         & 2005-02-01\\\\\n",
       "\t 1324360    & 792        & 7          & 2005-02-01 & 27         & 1          &    59.9993 &    39.9564 &  40        & 2005-02-02 & 2005-09-25 & 17         &    1.7434  &    1.2009  &   3        & 2005-02-12 & 2005-09-21 &  2         & 2005-02-02\\\\\n",
       "\t 1324362    & 276        & 2          & 2005-02-01 & 22         & 1          &    22.0000 &     0.0000 &   7        & 2005-02-11 & 2005-09-17 &  5         &        NA  &        NA  &  NA        & NA         & NA         & NA         & 2005-02-11\\\\\n",
       "\\end{tabular}\n"
      ],
      "text/markdown": [
       "\n",
       "| USERID | COUNTRY | LANGUAGE | RegistrationDate | AGE | GENDER | FOTotalStakes | FOTotalWinnings | FOTotalBets | FOFirstActiveDate | FOLastActiveDate | FOTotalDaysActive | LATotalStakes | LATotalWinnings | LATotalBets | LAFirstActiveDate | LALastActiveDate | LATotalDaysActive | FirstSportsActiveDate |\n",
       "|---|---|---|---|---|---|---|---|---|---|---|---|---|---|---|---|---|---|---|\n",
       "| 1324354    | 276        | 2          | 2005-02-01 | 42         | 1          | 10137.3300 | 10224.1200 | 236        | 2005-02-24 | 2005-09-30 | 97         | 1839.2800  | 1512.4900  |  43        | 2005-05-04 | 2005-09-26 | 18         | 2005-02-24 |\n",
       "| 1324355    | 300        | 8          | 2005-02-01 | 22         | 1          |   400.8600 |   453.3000 | 231        | 2005-02-01 | 2005-09-29 | 72         |   24.7000  |   11.2000  |  21        | 2005-02-01 | 2005-02-07 |  7         | 2005-02-01 |\n",
       "| 1324356    | 276        | 2          | 2005-02-01 | 28         | 1          |   686.1900 |   285.5100 |  98        | 2005-02-02 | 2005-09-12 | 38         |  679.0700  |  625.1500  | 116        | 2005-02-02 | 2005-09-11 | 23         | 2005-02-02 |\n",
       "| 1324358    | 752        | 1          | 2005-02-01 | 24         | 1          |   247.6971 |   153.8756 |   7        | 2005-02-01 | 2005-05-06 |  5         |   88.5927  |   55.9819  |   4        | 2005-05-03 | 2005-05-03 |  1         | 2005-02-01 |\n",
       "| 1324360    | 792        | 7          | 2005-02-01 | 27         | 1          |    59.9993 |    39.9564 |  40        | 2005-02-02 | 2005-09-25 | 17         |    1.7434  |    1.2009  |   3        | 2005-02-12 | 2005-09-21 |  2         | 2005-02-02 |\n",
       "| 1324362    | 276        | 2          | 2005-02-01 | 22         | 1          |    22.0000 |     0.0000 |   7        | 2005-02-11 | 2005-09-17 |  5         |        NA  |        NA  |  NA        | NA         | NA         | NA         | 2005-02-11 |\n",
       "\n"
      ],
      "text/plain": [
       "  USERID  COUNTRY LANGUAGE RegistrationDate AGE GENDER FOTotalStakes\n",
       "1 1324354 276     2        2005-02-01       42  1      10137.3300   \n",
       "2 1324355 300     8        2005-02-01       22  1        400.8600   \n",
       "3 1324356 276     2        2005-02-01       28  1        686.1900   \n",
       "4 1324358 752     1        2005-02-01       24  1        247.6971   \n",
       "5 1324360 792     7        2005-02-01       27  1         59.9993   \n",
       "6 1324362 276     2        2005-02-01       22  1         22.0000   \n",
       "  FOTotalWinnings FOTotalBets FOFirstActiveDate FOLastActiveDate\n",
       "1 10224.1200      236         2005-02-24        2005-09-30      \n",
       "2   453.3000      231         2005-02-01        2005-09-29      \n",
       "3   285.5100       98         2005-02-02        2005-09-12      \n",
       "4   153.8756        7         2005-02-01        2005-05-06      \n",
       "5    39.9564       40         2005-02-02        2005-09-25      \n",
       "6     0.0000        7         2005-02-11        2005-09-17      \n",
       "  FOTotalDaysActive LATotalStakes LATotalWinnings LATotalBets LAFirstActiveDate\n",
       "1 97                1839.2800     1512.4900        43         2005-05-04       \n",
       "2 72                  24.7000       11.2000        21         2005-02-01       \n",
       "3 38                 679.0700      625.1500       116         2005-02-02       \n",
       "4  5                  88.5927       55.9819         4         2005-05-03       \n",
       "5 17                   1.7434        1.2009         3         2005-02-12       \n",
       "6  5                       NA            NA        NA         <NA>             \n",
       "  LALastActiveDate LATotalDaysActive FirstSportsActiveDate\n",
       "1 2005-09-26       18                2005-02-24           \n",
       "2 2005-02-07        7                2005-02-01           \n",
       "3 2005-09-11       23                2005-02-02           \n",
       "4 2005-05-03        1                2005-02-01           \n",
       "5 2005-09-21        2                2005-02-02           \n",
       "6 <NA>             NA                2005-02-11           "
      ]
     },
     "metadata": {},
     "output_type": "display_data"
    }
   ],
   "source": [
    "#To check data values for an idea of what to clean\n",
    "\n",
    "head(analyticdata)"
   ]
  },
  {
   "cell_type": "code",
   "execution_count": 58,
   "metadata": {},
   "outputs": [
    {
     "data": {
      "text/html": [
       "<table>\n",
       "<thead><tr><th scope=col>USERID</th><th scope=col>COUNTRY</th><th scope=col>LANGUAGE</th><th scope=col>RegistrationDate</th><th scope=col>AGE</th><th scope=col>GENDER</th><th scope=col>FOTotalStakes</th><th scope=col>FOTotalWinnings</th><th scope=col>FOTotalBets</th><th scope=col>FOFirstActiveDate</th><th scope=col>FOLastActiveDate</th><th scope=col>FOTotalDaysActive</th><th scope=col>LATotalStakes</th><th scope=col>LATotalWinnings</th><th scope=col>LATotalBets</th><th scope=col>LAFirstActiveDate</th><th scope=col>LALastActiveDate</th><th scope=col>LATotalDaysActive</th><th scope=col>FirstSportsActiveDate</th></tr></thead>\n",
       "<tbody>\n",
       "\t<tr><td>1402188   </td><td>792       </td><td>7         </td><td>2005-02-27</td><td>23        </td><td>1         </td><td> 72.1004  </td><td> 41.4494  </td><td> 16       </td><td>2005-03-03</td><td>2005-03-14</td><td> 8        </td><td>  45.7227 </td><td>  47.8761 </td><td> 9        </td><td>2005-03-02</td><td>2005-03-04</td><td> 3        </td><td>2005-03-02</td></tr>\n",
       "\t<tr><td>1402189   </td><td>276       </td><td>2         </td><td>2005-02-27</td><td>20        </td><td>1         </td><td> 59.8700  </td><td> 19.8700  </td><td> 32       </td><td>2005-04-23</td><td>2005-09-28</td><td>26        </td><td>   2.0000 </td><td>   0.0000 </td><td> 2        </td><td>2005-04-27</td><td>2005-05-03</td><td> 2        </td><td>2005-04-23</td></tr>\n",
       "\t<tr><td>1402190   </td><td>300       </td><td>8         </td><td>2005-02-27</td><td>30        </td><td>1         </td><td>937.7200  </td><td>796.9300  </td><td> 36       </td><td>2005-02-28</td><td>2005-09-15</td><td>21        </td><td>1462.2900 </td><td>1768.8300 </td><td>41        </td><td>2005-02-28</td><td>2005-09-20</td><td>19        </td><td>2005-02-28</td></tr>\n",
       "\t<tr><td>1402191   </td><td>724       </td><td>4         </td><td>2005-02-27</td><td>26        </td><td>1         </td><td>154.0000  </td><td> 63.0000  </td><td> 11       </td><td>2005-02-27</td><td>2005-04-03</td><td> 5        </td><td>  60.0000 </td><td>  91.0000 </td><td> 6        </td><td>2005-02-28</td><td>2005-02-28</td><td> 1        </td><td>2005-02-27</td></tr>\n",
       "\t<tr><td>1402192   </td><td>792       </td><td>7         </td><td>2005-02-27</td><td>33        </td><td>1         </td><td>  3.3735  </td><td>  1.8025  </td><td>  3       </td><td>2005-04-28</td><td>2005-05-20</td><td> 3        </td><td>   2.8011 </td><td>   1.6807 </td><td> 5        </td><td>2005-05-05</td><td>2005-05-06</td><td> 1        </td><td>2005-04-28</td></tr>\n",
       "\t<tr><td>1402197   </td><td>300       </td><td>8         </td><td>2005-02-27</td><td>31        </td><td>1         </td><td>802.1000  </td><td>429.0000  </td><td>116       </td><td>2005-03-02</td><td>2005-09-28</td><td>25        </td><td>  60.0000 </td><td> 187.5000 </td><td> 2        </td><td>2005-05-18</td><td>2005-09-27</td><td> 2        </td><td>2005-03-02</td></tr>\n",
       "</tbody>\n",
       "</table>\n"
      ],
      "text/latex": [
       "\\begin{tabular}{r|lllllllllllllllllll}\n",
       " USERID & COUNTRY & LANGUAGE & RegistrationDate & AGE & GENDER & FOTotalStakes & FOTotalWinnings & FOTotalBets & FOFirstActiveDate & FOLastActiveDate & FOTotalDaysActive & LATotalStakes & LATotalWinnings & LATotalBets & LAFirstActiveDate & LALastActiveDate & LATotalDaysActive & FirstSportsActiveDate\\\\\n",
       "\\hline\n",
       "\t 1402188    & 792        & 7          & 2005-02-27 & 23         & 1          &  72.1004   &  41.4494   &  16        & 2005-03-03 & 2005-03-14 &  8         &   45.7227  &   47.8761  &  9         & 2005-03-02 & 2005-03-04 &  3         & 2005-03-02\\\\\n",
       "\t 1402189    & 276        & 2          & 2005-02-27 & 20         & 1          &  59.8700   &  19.8700   &  32        & 2005-04-23 & 2005-09-28 & 26         &    2.0000  &    0.0000  &  2         & 2005-04-27 & 2005-05-03 &  2         & 2005-04-23\\\\\n",
       "\t 1402190    & 300        & 8          & 2005-02-27 & 30         & 1          & 937.7200   & 796.9300   &  36        & 2005-02-28 & 2005-09-15 & 21         & 1462.2900  & 1768.8300  & 41         & 2005-02-28 & 2005-09-20 & 19         & 2005-02-28\\\\\n",
       "\t 1402191    & 724        & 4          & 2005-02-27 & 26         & 1          & 154.0000   &  63.0000   &  11        & 2005-02-27 & 2005-04-03 &  5         &   60.0000  &   91.0000  &  6         & 2005-02-28 & 2005-02-28 &  1         & 2005-02-27\\\\\n",
       "\t 1402192    & 792        & 7          & 2005-02-27 & 33         & 1          &   3.3735   &   1.8025   &   3        & 2005-04-28 & 2005-05-20 &  3         &    2.8011  &    1.6807  &  5         & 2005-05-05 & 2005-05-06 &  1         & 2005-04-28\\\\\n",
       "\t 1402197    & 300        & 8          & 2005-02-27 & 31         & 1          & 802.1000   & 429.0000   & 116        & 2005-03-02 & 2005-09-28 & 25         &   60.0000  &  187.5000  &  2         & 2005-05-18 & 2005-09-27 &  2         & 2005-03-02\\\\\n",
       "\\end{tabular}\n"
      ],
      "text/markdown": [
       "\n",
       "| USERID | COUNTRY | LANGUAGE | RegistrationDate | AGE | GENDER | FOTotalStakes | FOTotalWinnings | FOTotalBets | FOFirstActiveDate | FOLastActiveDate | FOTotalDaysActive | LATotalStakes | LATotalWinnings | LATotalBets | LAFirstActiveDate | LALastActiveDate | LATotalDaysActive | FirstSportsActiveDate |\n",
       "|---|---|---|---|---|---|---|---|---|---|---|---|---|---|---|---|---|---|---|\n",
       "| 1402188    | 792        | 7          | 2005-02-27 | 23         | 1          |  72.1004   |  41.4494   |  16        | 2005-03-03 | 2005-03-14 |  8         |   45.7227  |   47.8761  |  9         | 2005-03-02 | 2005-03-04 |  3         | 2005-03-02 |\n",
       "| 1402189    | 276        | 2          | 2005-02-27 | 20         | 1          |  59.8700   |  19.8700   |  32        | 2005-04-23 | 2005-09-28 | 26         |    2.0000  |    0.0000  |  2         | 2005-04-27 | 2005-05-03 |  2         | 2005-04-23 |\n",
       "| 1402190    | 300        | 8          | 2005-02-27 | 30         | 1          | 937.7200   | 796.9300   |  36        | 2005-02-28 | 2005-09-15 | 21         | 1462.2900  | 1768.8300  | 41         | 2005-02-28 | 2005-09-20 | 19         | 2005-02-28 |\n",
       "| 1402191    | 724        | 4          | 2005-02-27 | 26         | 1          | 154.0000   |  63.0000   |  11        | 2005-02-27 | 2005-04-03 |  5         |   60.0000  |   91.0000  |  6         | 2005-02-28 | 2005-02-28 |  1         | 2005-02-27 |\n",
       "| 1402192    | 792        | 7          | 2005-02-27 | 33         | 1          |   3.3735   |   1.8025   |   3        | 2005-04-28 | 2005-05-20 |  3         |    2.8011  |    1.6807  |  5         | 2005-05-05 | 2005-05-06 |  1         | 2005-04-28 |\n",
       "| 1402197    | 300        | 8          | 2005-02-27 | 31         | 1          | 802.1000   | 429.0000   | 116        | 2005-03-02 | 2005-09-28 | 25         |   60.0000  |  187.5000  |  2         | 2005-05-18 | 2005-09-27 |  2         | 2005-03-02 |\n",
       "\n"
      ],
      "text/plain": [
       "  USERID  COUNTRY LANGUAGE RegistrationDate AGE GENDER FOTotalStakes\n",
       "1 1402188 792     7        2005-02-27       23  1       72.1004     \n",
       "2 1402189 276     2        2005-02-27       20  1       59.8700     \n",
       "3 1402190 300     8        2005-02-27       30  1      937.7200     \n",
       "4 1402191 724     4        2005-02-27       26  1      154.0000     \n",
       "5 1402192 792     7        2005-02-27       33  1        3.3735     \n",
       "6 1402197 300     8        2005-02-27       31  1      802.1000     \n",
       "  FOTotalWinnings FOTotalBets FOFirstActiveDate FOLastActiveDate\n",
       "1  41.4494         16         2005-03-03        2005-03-14      \n",
       "2  19.8700         32         2005-04-23        2005-09-28      \n",
       "3 796.9300         36         2005-02-28        2005-09-15      \n",
       "4  63.0000         11         2005-02-27        2005-04-03      \n",
       "5   1.8025          3         2005-04-28        2005-05-20      \n",
       "6 429.0000        116         2005-03-02        2005-09-28      \n",
       "  FOTotalDaysActive LATotalStakes LATotalWinnings LATotalBets LAFirstActiveDate\n",
       "1  8                  45.7227       47.8761        9          2005-03-02       \n",
       "2 26                   2.0000        0.0000        2          2005-04-27       \n",
       "3 21                1462.2900     1768.8300       41          2005-02-28       \n",
       "4  5                  60.0000       91.0000        6          2005-02-28       \n",
       "5  3                   2.8011        1.6807        5          2005-05-05       \n",
       "6 25                  60.0000      187.5000        2          2005-05-18       \n",
       "  LALastActiveDate LATotalDaysActive FirstSportsActiveDate\n",
       "1 2005-03-04        3                2005-03-02           \n",
       "2 2005-05-03        2                2005-04-23           \n",
       "3 2005-09-20       19                2005-02-28           \n",
       "4 2005-02-28        1                2005-02-27           \n",
       "5 2005-05-06        1                2005-04-28           \n",
       "6 2005-09-27        2                2005-03-02           "
      ]
     },
     "metadata": {},
     "output_type": "display_data"
    }
   ],
   "source": [
    "tail(analyticdata)"
   ]
  },
  {
   "cell_type": "code",
   "execution_count": 59,
   "metadata": {},
   "outputs": [
    {
     "data": {
      "text/html": [
       "'numeric'"
      ],
      "text/latex": [
       "'numeric'"
      ],
      "text/markdown": [
       "'numeric'"
      ],
      "text/plain": [
       "[1] \"numeric\""
      ]
     },
     "metadata": {},
     "output_type": "display_data"
    },
    {
     "data": {
      "text/html": [
       "<ol class=list-inline>\n",
       "\t<li>1</li>\n",
       "\t<li>0</li>\n",
       "\t<li>&lt;NA&gt;</li>\n",
       "</ol>\n"
      ],
      "text/latex": [
       "\\begin{enumerate*}\n",
       "\\item 1\n",
       "\\item 0\n",
       "\\item <NA>\n",
       "\\end{enumerate*}\n"
      ],
      "text/markdown": [
       "1. 1\n",
       "2. 0\n",
       "3. &lt;NA&gt;\n",
       "\n",
       "\n"
      ],
      "text/plain": [
       "[1]  1  0 NA"
      ]
     },
     "metadata": {},
     "output_type": "display_data"
    }
   ],
   "source": [
    "#One missing value in Gender Column\n",
    "\n",
    "class(analyticdata$GENDER)\n",
    "unique(analyticdata$GENDER)"
   ]
  },
  {
   "cell_type": "code",
   "execution_count": 60,
   "metadata": {},
   "outputs": [
    {
     "name": "stdout",
     "output_type": "stream",
     "text": [
      "Classes 'tbl_df', 'tbl' and 'data.frame':\t40499 obs. of  19 variables:\n",
      " $ USERID               : num  1324354 1324355 1324356 1324358 1324360 ...\n",
      "  ..- attr(*, \"label\")= chr \"User ID\"\n",
      " $ COUNTRY              : num  276 300 276 752 792 276 208 276 620 792 ...\n",
      "  ..- attr(*, \"label\")= chr \"Country of Residence\"\n",
      " $ LANGUAGE             : num  2 8 2 1 7 2 11 2 16 7 ...\n",
      "  ..- attr(*, \"label\")= chr \"Language\"\n",
      " $ RegistrationDate     : Date, format: \"2005-02-01\" \"2005-02-01\" ...\n",
      " $ AGE                  : num  42 22 28 24 27 22 22 37 22 20 ...\n",
      "  ..- attr(*, \"label\")= chr \"Age at Registration\"\n",
      " $ GENDER               : num  1 1 1 1 1 1 1 1 1 1 ...\n",
      "  ..- attr(*, \"label\")= chr \"Gender\"\n",
      " $ FOTotalStakes        : num  10137 401 686 248 60 ...\n",
      "  ..- attr(*, \"label\")= chr \"Fixed-Odds Total Stakes\"\n",
      " $ FOTotalWinnings      : num  10224 453 286 154 40 ...\n",
      "  ..- attr(*, \"label\")= chr \"Fixed-Odds Total Winnings\"\n",
      " $ FOTotalBets          : num  236 231 98 7 40 7 3 11 149 91 ...\n",
      "  ..- attr(*, \"label\")= chr \"Fixed-Odds Total Bets\"\n",
      " $ FOFirstActiveDate    : Date, format: \"2005-02-24\" \"2005-02-01\" ...\n",
      " $ FOLastActiveDate     : Date, format: \"2005-09-30\" \"2005-09-29\" ...\n",
      " $ FOTotalDaysActive    : num  97 72 38 5 17 5 3 8 56 32 ...\n",
      "  ..- attr(*, \"label\")= chr \"Fixed-Odds Total Days Active\"\n",
      " $ LATotalStakes        : num  1839.28 24.7 679.07 88.59 1.74 ...\n",
      "  ..- attr(*, \"label\")= chr \"Live Action Total Stakes\"\n",
      " $ LATotalWinnings      : num  1512.5 11.2 625.1 56 1.2 ...\n",
      "  ..- attr(*, \"label\")= chr \"Live Action Total Winnings\"\n",
      " $ LATotalBets          : num  43 21 116 4 3 NA NA 37 328 112 ...\n",
      "  ..- attr(*, \"label\")= chr \"Live Action Total Bets\"\n",
      " $ LAFirstActiveDate    : Date, format: \"2005-05-04\" \"2005-02-01\" ...\n",
      " $ LALastActiveDate     : Date, format: \"2005-09-26\" \"2005-02-07\" ...\n",
      " $ LATotalDaysActive    : num  18 7 23 1 2 NA NA 12 60 35 ...\n",
      "  ..- attr(*, \"label\")= chr \"Live Action Total Days Active\"\n",
      " $ FirstSportsActiveDate: Date, format: \"2005-02-24\" \"2005-02-01\" ...\n",
      " - attr(*, \"label\")= chr \"NEW\"\n"
     ]
    }
   ],
   "source": [
    "#To understand data structure\n",
    "\n",
    "str(analyticdata)"
   ]
  },
  {
   "cell_type": "code",
   "execution_count": 61,
   "metadata": {},
   "outputs": [
    {
     "name": "stdout",
     "output_type": "stream",
     "text": [
      "Observations: 40,499\n",
      "Variables: 19\n",
      "$ USERID                <dbl> 1324354, 1324355, 1324356, 1324358, 1324360, ...\n",
      "$ COUNTRY               <dbl> 276, 300, 276, 752, 792, 276, 208, 276, 620, ...\n",
      "$ LANGUAGE              <dbl> 2, 8, 2, 1, 7, 2, 11, 2, 16, 7, 9, 11, 2, 8, ...\n",
      "$ RegistrationDate      <date> 2005-02-01, 2005-02-01, 2005-02-01, 2005-02-...\n",
      "$ AGE                   <dbl> 42, 22, 28, 24, 27, 22, 22, 37, 22, 20, 31, 2...\n",
      "$ GENDER                <dbl> 1, 1, 1, 1, 1, 1, 1, 1, 1, 1, 1, 1, 1, 1, 1, ...\n",
      "$ FOTotalStakes         <dbl> 10137.3300, 400.8600, 686.1900, 247.6971, 59....\n",
      "$ FOTotalWinnings       <dbl> 10224.1200, 453.3000, 285.5100, 153.8756, 39....\n",
      "$ FOTotalBets           <dbl> 236, 231, 98, 7, 40, 7, 3, 11, 149, 91, 198, ...\n",
      "$ FOFirstActiveDate     <date> 2005-02-24, 2005-02-01, 2005-02-02, 2005-02-...\n",
      "$ FOLastActiveDate      <date> 2005-09-30, 2005-09-29, 2005-09-12, 2005-05-...\n",
      "$ FOTotalDaysActive     <dbl> 97, 72, 38, 5, 17, 5, 3, 8, 56, 32, 44, 2, 4,...\n",
      "$ LATotalStakes         <dbl> 1839.2800, 24.7000, 679.0700, 88.5927, 1.7434...\n",
      "$ LATotalWinnings       <dbl> 1512.4900, 11.2000, 625.1500, 55.9819, 1.2009...\n",
      "$ LATotalBets           <dbl> 43, 21, 116, 4, 3, NA, NA, 37, 328, 112, 197,...\n",
      "$ LAFirstActiveDate     <date> 2005-05-04, 2005-02-01, 2005-02-02, 2005-05-...\n",
      "$ LALastActiveDate      <date> 2005-09-26, 2005-02-07, 2005-09-11, 2005-05-...\n",
      "$ LATotalDaysActive     <dbl> 18, 7, 23, 1, 2, NA, NA, 12, 60, 35, 27, 1, 2...\n",
      "$ FirstSportsActiveDate <date> 2005-02-24, 2005-02-01, 2005-02-02, 2005-02-...\n"
     ]
    }
   ],
   "source": [
    "glimpse(analyticdata)"
   ]
  },
  {
   "cell_type": "code",
   "execution_count": 62,
   "metadata": {
    "scrolled": true
   },
   "outputs": [
    {
     "data": {
      "text/plain": [
       "     USERID           COUNTRY         LANGUAGE      RegistrationDate    \n",
       " Min.   :1324354   Min.   :  8.0   Min.   : 1.000   Min.   :2005-02-01  \n",
       " 1st Qu.:1344236   1st Qu.:276.0   1st Qu.: 2.000   1st Qu.:2005-02-09  \n",
       " Median :1363423   Median :276.0   Median : 2.000   Median :2005-02-16  \n",
       " Mean   :1363396   Mean   :359.2   Mean   : 3.747   Mean   :2005-02-15  \n",
       " 3rd Qu.:1382601   3rd Qu.:300.0   3rd Qu.: 6.000   3rd Qu.:2005-02-22  \n",
       " Max.   :1402197   Max.   :895.0   Max.   :17.000   Max.   :2005-02-27  \n",
       "                                                                        \n",
       "      AGE             GENDER       FOTotalStakes      FOTotalWinnings   \n",
       " Min.   : 14.00   Min.   :0.0000   Min.   :     0.0   Min.   :     0.0  \n",
       " 1st Qu.: 24.00   1st Qu.:1.0000   1st Qu.:    51.0   1st Qu.:    16.9  \n",
       " Median : 29.00   Median :1.0000   Median :   148.0   Median :   100.8  \n",
       " Mean   : 31.42   Mean   :0.9163   Mean   :   729.2   Mean   :   632.6  \n",
       " 3rd Qu.: 37.00   3rd Qu.:1.0000   3rd Qu.:   450.0   3rd Qu.:   368.8  \n",
       " Max.   :105.00   Max.   :1.0000   Max.   :380094.0   Max.   :420949.3  \n",
       "                  NA's   :1        NA's   :780        NA's   :780       \n",
       "  FOTotalBets      FOFirstActiveDate    FOLastActiveDate     FOTotalDaysActive\n",
       " Min.   :    1.0   Min.   :2005-02-01   Min.   :2005-02-01   Min.   :  1.00   \n",
       " 1st Qu.:   11.0   1st Qu.:2005-02-12   1st Qu.:2005-03-20   1st Qu.:  5.00   \n",
       " Median :   36.0   Median :2005-02-21   Median :2005-07-03   Median : 14.00   \n",
       " Mean   :  134.8   Mean   :2005-02-26   Mean   :2005-06-23   Mean   : 24.31   \n",
       " 3rd Qu.:  109.0   3rd Qu.:2005-02-27   3rd Qu.:2005-09-24   3rd Qu.: 32.00   \n",
       " Max.   :26345.0   Max.   :2005-09-29   Max.   :2005-09-30   Max.   :310.00   \n",
       " NA's   :780       NA's   :780          NA's   :780          NA's   :780      \n",
       " LATotalStakes      LATotalWinnings     LATotalBets       LAFirstActiveDate   \n",
       " Min.   :     0.0   Min.   :     0.0   Min.   :    0.00   Min.   :2005-02-01  \n",
       " 1st Qu.:    15.0   1st Qu.:     6.5   1st Qu.:    4.00   1st Qu.:2005-02-16  \n",
       " Median :    60.5   Median :    45.0   Median :   15.00   Median :2005-02-26  \n",
       " Mean   :  1318.6   Mean   :  1233.6   Mean   :   99.27   Mean   :2005-03-15  \n",
       " 3rd Qu.:   281.3   3rd Qu.:   241.8   3rd Qu.:   60.00   3rd Qu.:2005-03-16  \n",
       " Max.   :384518.3   Max.   :375006.0   Max.   :21230.00   Max.   :2005-09-30  \n",
       " NA's   :15705      NA's   :15705      NA's   :15705      NA's   :15705       \n",
       " LALastActiveDate     LATotalDaysActive FirstSportsActiveDate\n",
       " Min.   :2005-02-01   Min.   :  1.00    Min.   :2005-02-01   \n",
       " 1st Qu.:2005-03-09   1st Qu.:  2.00    1st Qu.:2005-02-12   \n",
       " Median :2005-05-12   Median :  5.00    Median :2005-02-21   \n",
       " Mean   :2005-06-01   Mean   : 13.54    Mean   :2005-02-26   \n",
       " 3rd Qu.:2005-09-06   3rd Qu.: 14.00    3rd Qu.:2005-02-27   \n",
       " Max.   :2005-09-30   Max.   :234.00    Max.   :2005-09-29   \n",
       " NA's   :15705        NA's   :15706                          "
      ]
     },
     "metadata": {},
     "output_type": "display_data"
    }
   ],
   "source": [
    "#To understand the data values\n",
    "\n",
    "summary(analyticdata)"
   ]
  },
  {
   "cell_type": "code",
   "execution_count": 63,
   "metadata": {},
   "outputs": [],
   "source": [
    "#Creating variables for merge: Pokerchips\n",
    "#Created following variables: MinDate, MaxDate, TotalTransAmount based on UserID and TransType\n",
    "\n",
    "pokerchips1 <- sqldf(\"SELECT UserID, TransType as Poker_TransType, MAX(TransDateTime) as Poker_MaxTransDate, MIN(TransDateTime) as Poker_MinTransDate, SUM(TransAmount) as Poker_TotalTransAmount, COUNT(TransType) as Poker_Count FROM pokerchips GROUP BY UserID, TransType\")"
   ]
  },
  {
   "cell_type": "code",
   "execution_count": 64,
   "metadata": {},
   "outputs": [
    {
     "data": {
      "text/html": [
       "<table>\n",
       "<thead><tr><th scope=col>UserID</th><th scope=col>Poker_TransType</th><th scope=col>Poker_MaxTransDate</th><th scope=col>Poker_MinTransDate</th><th scope=col>Poker_TotalTransAmount</th><th scope=col>Poker_Count</th></tr></thead>\n",
       "<tbody>\n",
       "\t<tr><td>1324355            </td><td>0                  </td><td>2005-06-15 02:40:00</td><td>2005-06-12 02:01:00</td><td>   8.2593000       </td><td> 2                 </td></tr>\n",
       "\t<tr><td>1324355            </td><td>1                  </td><td>2005-06-14 23:48:00</td><td>2005-06-12 00:37:00</td><td>  30.8295000       </td><td> 6                 </td></tr>\n",
       "\t<tr><td>1324368            </td><td>0                  </td><td>2005-05-30 00:28:00</td><td>2005-04-06 02:31:00</td><td>9620.8147000       </td><td>32                 </td></tr>\n",
       "\t<tr><td>1324368            </td><td>1                  </td><td>2005-05-29 23:40:00</td><td>2005-04-05 17:01:00</td><td>9161.6582000       </td><td>67                 </td></tr>\n",
       "\t<tr><td>1324369            </td><td>0                  </td><td>2005-03-03 11:56:00</td><td>2005-03-03 11:56:00</td><td>   0.2949455       </td><td> 1                 </td></tr>\n",
       "\t<tr><td>1324369            </td><td>1                  </td><td>2005-03-03 11:53:00</td><td>2005-03-03 11:53:00</td><td>   0.2949455       </td><td> 1                 </td></tr>\n",
       "</tbody>\n",
       "</table>\n"
      ],
      "text/latex": [
       "\\begin{tabular}{r|llllll}\n",
       " UserID & Poker\\_TransType & Poker\\_MaxTransDate & Poker\\_MinTransDate & Poker\\_TotalTransAmount & Poker\\_Count\\\\\n",
       "\\hline\n",
       "\t 1324355             & 0                   & 2005-06-15 02:40:00 & 2005-06-12 02:01:00 &    8.2593000        &  2                 \\\\\n",
       "\t 1324355             & 1                   & 2005-06-14 23:48:00 & 2005-06-12 00:37:00 &   30.8295000        &  6                 \\\\\n",
       "\t 1324368             & 0                   & 2005-05-30 00:28:00 & 2005-04-06 02:31:00 & 9620.8147000        & 32                 \\\\\n",
       "\t 1324368             & 1                   & 2005-05-29 23:40:00 & 2005-04-05 17:01:00 & 9161.6582000        & 67                 \\\\\n",
       "\t 1324369             & 0                   & 2005-03-03 11:56:00 & 2005-03-03 11:56:00 &    0.2949455        &  1                 \\\\\n",
       "\t 1324369             & 1                   & 2005-03-03 11:53:00 & 2005-03-03 11:53:00 &    0.2949455        &  1                 \\\\\n",
       "\\end{tabular}\n"
      ],
      "text/markdown": [
       "\n",
       "| UserID | Poker_TransType | Poker_MaxTransDate | Poker_MinTransDate | Poker_TotalTransAmount | Poker_Count |\n",
       "|---|---|---|---|---|---|\n",
       "| 1324355             | 0                   | 2005-06-15 02:40:00 | 2005-06-12 02:01:00 |    8.2593000        |  2                  |\n",
       "| 1324355             | 1                   | 2005-06-14 23:48:00 | 2005-06-12 00:37:00 |   30.8295000        |  6                  |\n",
       "| 1324368             | 0                   | 2005-05-30 00:28:00 | 2005-04-06 02:31:00 | 9620.8147000        | 32                  |\n",
       "| 1324368             | 1                   | 2005-05-29 23:40:00 | 2005-04-05 17:01:00 | 9161.6582000        | 67                  |\n",
       "| 1324369             | 0                   | 2005-03-03 11:56:00 | 2005-03-03 11:56:00 |    0.2949455        |  1                  |\n",
       "| 1324369             | 1                   | 2005-03-03 11:53:00 | 2005-03-03 11:53:00 |    0.2949455        |  1                  |\n",
       "\n"
      ],
      "text/plain": [
       "  UserID  Poker_TransType Poker_MaxTransDate  Poker_MinTransDate \n",
       "1 1324355 0               2005-06-15 02:40:00 2005-06-12 02:01:00\n",
       "2 1324355 1               2005-06-14 23:48:00 2005-06-12 00:37:00\n",
       "3 1324368 0               2005-05-30 00:28:00 2005-04-06 02:31:00\n",
       "4 1324368 1               2005-05-29 23:40:00 2005-04-05 17:01:00\n",
       "5 1324369 0               2005-03-03 11:56:00 2005-03-03 11:56:00\n",
       "6 1324369 1               2005-03-03 11:53:00 2005-03-03 11:53:00\n",
       "  Poker_TotalTransAmount Poker_Count\n",
       "1    8.2593000            2         \n",
       "2   30.8295000            6         \n",
       "3 9620.8147000           32         \n",
       "4 9161.6582000           67         \n",
       "5    0.2949455            1         \n",
       "6    0.2949455            1         "
      ]
     },
     "metadata": {},
     "output_type": "display_data"
    }
   ],
   "source": [
    "head(pokerchips1)"
   ]
  },
  {
   "cell_type": "code",
   "execution_count": 65,
   "metadata": {},
   "outputs": [],
   "source": [
    "#Creating two new datasets based on buying and selling of pokerchips\n",
    "\n",
    "pokerchipssell <- subset(pokerchips1, Poker_TransType == 1, select = c(UserID, Poker_TransType, Poker_TotalTransAmount, Poker_MinTransDate, Poker_MaxTransDate, Poker_Count))\n",
    "pokerchipsbuy <- subset(pokerchips1, Poker_TransType == 0, select = c(UserID, Poker_TransType, Poker_TotalTransAmount, Poker_MinTransDate, Poker_MaxTransDate, Poker_Count))"
   ]
  },
  {
   "cell_type": "code",
   "execution_count": 66,
   "metadata": {
    "scrolled": true
   },
   "outputs": [
    {
     "data": {
      "text/html": [
       "<table>\n",
       "<thead><tr><th></th><th scope=col>UserID</th><th scope=col>Poker_TransType</th><th scope=col>Poker_TotalTransAmount</th><th scope=col>Poker_MinTransDate</th><th scope=col>Poker_MaxTransDate</th><th scope=col>Poker_Count</th></tr></thead>\n",
       "<tbody>\n",
       "\t<tr><th scope=row>2</th><td>1324355            </td><td>1                  </td><td>  30.8295000       </td><td>2005-06-12 00:37:00</td><td>2005-06-14 23:48:00</td><td>  6                </td></tr>\n",
       "\t<tr><th scope=row>4</th><td>1324368            </td><td>1                  </td><td>9161.6582000       </td><td>2005-04-05 17:01:00</td><td>2005-05-29 23:40:00</td><td> 67                </td></tr>\n",
       "\t<tr><th scope=row>6</th><td>1324369            </td><td>1                  </td><td>   0.2949455       </td><td>2005-03-03 11:53:00</td><td>2005-03-03 11:53:00</td><td>  1                </td></tr>\n",
       "\t<tr><th scope=row>8</th><td>1324371            </td><td>1                  </td><td> 122.6326185       </td><td>2005-02-01 10:09:00</td><td>2005-02-10 00:07:00</td><td>  5                </td></tr>\n",
       "\t<tr><th scope=row>10</th><td>1324372            </td><td>1                  </td><td> 860.7839833       </td><td>2005-09-02 19:11:00</td><td>2005-10-02 21:11:00</td><td>122                </td></tr>\n",
       "\t<tr><th scope=row>12</th><td>1324377            </td><td>1                  </td><td>  27.5521477       </td><td>2005-02-01 00:51:00</td><td>2005-02-03 01:54:00</td><td>  5                </td></tr>\n",
       "</tbody>\n",
       "</table>\n"
      ],
      "text/latex": [
       "\\begin{tabular}{r|llllll}\n",
       "  & UserID & Poker\\_TransType & Poker\\_TotalTransAmount & Poker\\_MinTransDate & Poker\\_MaxTransDate & Poker\\_Count\\\\\n",
       "\\hline\n",
       "\t2 & 1324355             & 1                   &   30.8295000        & 2005-06-12 00:37:00 & 2005-06-14 23:48:00 &   6                \\\\\n",
       "\t4 & 1324368             & 1                   & 9161.6582000        & 2005-04-05 17:01:00 & 2005-05-29 23:40:00 &  67                \\\\\n",
       "\t6 & 1324369             & 1                   &    0.2949455        & 2005-03-03 11:53:00 & 2005-03-03 11:53:00 &   1                \\\\\n",
       "\t8 & 1324371             & 1                   &  122.6326185        & 2005-02-01 10:09:00 & 2005-02-10 00:07:00 &   5                \\\\\n",
       "\t10 & 1324372             & 1                   &  860.7839833        & 2005-09-02 19:11:00 & 2005-10-02 21:11:00 & 122                \\\\\n",
       "\t12 & 1324377             & 1                   &   27.5521477        & 2005-02-01 00:51:00 & 2005-02-03 01:54:00 &   5                \\\\\n",
       "\\end{tabular}\n"
      ],
      "text/markdown": [
       "\n",
       "| <!--/--> | UserID | Poker_TransType | Poker_TotalTransAmount | Poker_MinTransDate | Poker_MaxTransDate | Poker_Count |\n",
       "|---|---|---|---|---|---|---|\n",
       "| 2 | 1324355             | 1                   |   30.8295000        | 2005-06-12 00:37:00 | 2005-06-14 23:48:00 |   6                 |\n",
       "| 4 | 1324368             | 1                   | 9161.6582000        | 2005-04-05 17:01:00 | 2005-05-29 23:40:00 |  67                 |\n",
       "| 6 | 1324369             | 1                   |    0.2949455        | 2005-03-03 11:53:00 | 2005-03-03 11:53:00 |   1                 |\n",
       "| 8 | 1324371             | 1                   |  122.6326185        | 2005-02-01 10:09:00 | 2005-02-10 00:07:00 |   5                 |\n",
       "| 10 | 1324372             | 1                   |  860.7839833        | 2005-09-02 19:11:00 | 2005-10-02 21:11:00 | 122                 |\n",
       "| 12 | 1324377             | 1                   |   27.5521477        | 2005-02-01 00:51:00 | 2005-02-03 01:54:00 |   5                 |\n",
       "\n"
      ],
      "text/plain": [
       "   UserID  Poker_TransType Poker_TotalTransAmount Poker_MinTransDate \n",
       "2  1324355 1                 30.8295000           2005-06-12 00:37:00\n",
       "4  1324368 1               9161.6582000           2005-04-05 17:01:00\n",
       "6  1324369 1                  0.2949455           2005-03-03 11:53:00\n",
       "8  1324371 1                122.6326185           2005-02-01 10:09:00\n",
       "10 1324372 1                860.7839833           2005-09-02 19:11:00\n",
       "12 1324377 1                 27.5521477           2005-02-01 00:51:00\n",
       "   Poker_MaxTransDate  Poker_Count\n",
       "2  2005-06-14 23:48:00   6        \n",
       "4  2005-05-29 23:40:00  67        \n",
       "6  2005-03-03 11:53:00   1        \n",
       "8  2005-02-10 00:07:00   5        \n",
       "10 2005-10-02 21:11:00 122        \n",
       "12 2005-02-03 01:54:00   5        "
      ]
     },
     "metadata": {},
     "output_type": "display_data"
    }
   ],
   "source": [
    "head(pokerchipssell)"
   ]
  },
  {
   "cell_type": "code",
   "execution_count": 67,
   "metadata": {},
   "outputs": [
    {
     "data": {
      "text/html": [
       "<ol class=list-inline>\n",
       "\t<li>1</li>\n",
       "\t<li>2</li>\n",
       "\t<li>8</li>\n",
       "\t<li>6</li>\n",
       "\t<li>7</li>\n",
       "\t<li>4</li>\n",
       "\t<li>5</li>\n",
       "</ol>\n"
      ],
      "text/latex": [
       "\\begin{enumerate*}\n",
       "\\item 1\n",
       "\\item 2\n",
       "\\item 8\n",
       "\\item 6\n",
       "\\item 7\n",
       "\\item 4\n",
       "\\item 5\n",
       "\\end{enumerate*}\n"
      ],
      "text/markdown": [
       "1. 1\n",
       "2. 2\n",
       "3. 8\n",
       "4. 6\n",
       "5. 7\n",
       "6. 4\n",
       "7. 5\n",
       "\n",
       "\n"
      ],
      "text/plain": [
       "[1] 1 2 8 6 7 4 5"
      ]
     },
     "metadata": {},
     "output_type": "display_data"
    }
   ],
   "source": [
    "#Looking for unique product IDs in UserDaily: 1 2 8 6 7 4 5\n",
    "\n",
    "unique(userdaily$ProductID)"
   ]
  },
  {
   "cell_type": "code",
   "execution_count": 68,
   "metadata": {},
   "outputs": [
    {
     "data": {
      "text/html": [
       "<table>\n",
       "<thead><tr><th scope=col>UserID</th><th scope=col>Date</th><th scope=col>ProductID</th><th scope=col>Stakes</th><th scope=col>Winnings</th><th scope=col>Bets</th></tr></thead>\n",
       "<tbody>\n",
       "\t<tr><td>1324354   </td><td>2005-02-24</td><td>1         </td><td>20        </td><td>0         </td><td>2         </td></tr>\n",
       "\t<tr><td>1324354   </td><td>2005-02-25</td><td>1         </td><td> 0        </td><td>0         </td><td>0         </td></tr>\n",
       "\t<tr><td>1324354   </td><td>2005-02-27</td><td>1         </td><td>20        </td><td>0         </td><td>2         </td></tr>\n",
       "\t<tr><td>1324354   </td><td>2005-03-03</td><td>1         </td><td>10        </td><td>0         </td><td>1         </td></tr>\n",
       "\t<tr><td>1324354   </td><td>2005-03-04</td><td>1         </td><td>10        </td><td>0         </td><td>1         </td></tr>\n",
       "\t<tr><td>1324354   </td><td>2005-03-05</td><td>1         </td><td>10        </td><td>0         </td><td>1         </td></tr>\n",
       "</tbody>\n",
       "</table>\n"
      ],
      "text/latex": [
       "\\begin{tabular}{r|llllll}\n",
       " UserID & Date & ProductID & Stakes & Winnings & Bets\\\\\n",
       "\\hline\n",
       "\t 1324354    & 2005-02-24 & 1          & 20         & 0          & 2         \\\\\n",
       "\t 1324354    & 2005-02-25 & 1          &  0         & 0          & 0         \\\\\n",
       "\t 1324354    & 2005-02-27 & 1          & 20         & 0          & 2         \\\\\n",
       "\t 1324354    & 2005-03-03 & 1          & 10         & 0          & 1         \\\\\n",
       "\t 1324354    & 2005-03-04 & 1          & 10         & 0          & 1         \\\\\n",
       "\t 1324354    & 2005-03-05 & 1          & 10         & 0          & 1         \\\\\n",
       "\\end{tabular}\n"
      ],
      "text/markdown": [
       "\n",
       "| UserID | Date | ProductID | Stakes | Winnings | Bets |\n",
       "|---|---|---|---|---|---|\n",
       "| 1324354    | 2005-02-24 | 1          | 20         | 0          | 2          |\n",
       "| 1324354    | 2005-02-25 | 1          |  0         | 0          | 0          |\n",
       "| 1324354    | 2005-02-27 | 1          | 20         | 0          | 2          |\n",
       "| 1324354    | 2005-03-03 | 1          | 10         | 0          | 1          |\n",
       "| 1324354    | 2005-03-04 | 1          | 10         | 0          | 1          |\n",
       "| 1324354    | 2005-03-05 | 1          | 10         | 0          | 1          |\n",
       "\n"
      ],
      "text/plain": [
       "  UserID  Date       ProductID Stakes Winnings Bets\n",
       "1 1324354 2005-02-24 1         20     0        2   \n",
       "2 1324354 2005-02-25 1          0     0        0   \n",
       "3 1324354 2005-02-27 1         20     0        2   \n",
       "4 1324354 2005-03-03 1         10     0        1   \n",
       "5 1324354 2005-03-04 1         10     0        1   \n",
       "6 1324354 2005-03-05 1         10     0        1   "
      ]
     },
     "metadata": {},
     "output_type": "display_data"
    }
   ],
   "source": [
    "head(userdaily)"
   ]
  },
  {
   "cell_type": "code",
   "execution_count": 69,
   "metadata": {},
   "outputs": [],
   "source": [
    "#Create variables like Total Stakes, Total Winnings, Total number of bets, Count of each product bought\n",
    "\n",
    "userdaily1 <- sqldf(\"SELECT UserID, ProductID, Date, SUM(Stakes) as Product_TotalStakes, SUM(Winnings) as Product_TotalWinnings, SUM(Bets) as Product_TotalBets, COUNT(ProductID) as Product_CountOfProduct FROM userdaily GROUP BY UserID, ProductID\")"
   ]
  },
  {
   "cell_type": "code",
   "execution_count": 70,
   "metadata": {},
   "outputs": [
    {
     "name": "stdout",
     "output_type": "stream",
     "text": [
      "'data.frame':\t80792 obs. of  7 variables:\n",
      " $ UserID                : num  1324354 1324354 1324355 1324355 1324356 ...\n",
      " $ ProductID             : num  1 2 1 2 1 2 1 2 1 2 ...\n",
      " $ Date                  : Date, format: \"2005-02-24\" \"2005-05-04\" ...\n",
      " $ Product_TotalStakes   : num  10137.3 1839.3 400.9 24.7 686.2 ...\n",
      " $ Product_TotalWinnings : num  10224.1 1512.5 453.3 11.2 285.5 ...\n",
      " $ Product_TotalBets     : num  236 43 231 21 98 116 7 4 40 3 ...\n",
      " $ Product_CountOfProduct: int  117 19 99 7 51 24 8 1 29 2 ...\n"
     ]
    }
   ],
   "source": [
    "str(userdaily1)"
   ]
  },
  {
   "cell_type": "code",
   "execution_count": 71,
   "metadata": {},
   "outputs": [],
   "source": [
    "# Creating new datasets based on product \n",
    "\n",
    "userdaily_1 <- subset(userdaily1, ProductID == 1, select = c(UserID, ProductID, Date, Product_TotalStakes, Product_TotalWinnings, Product_TotalBets, Product_CountOfProduct))\n",
    "userdaily_2 <- subset(userdaily1, ProductID == 2, select = c(UserID, ProductID, Date, Product_TotalStakes, Product_TotalWinnings, Product_TotalBets, Product_CountOfProduct))\n",
    "userdaily_4 <- subset(userdaily1, ProductID == 4, select = c(UserID, ProductID, Date, Product_TotalStakes, Product_TotalWinnings, Product_TotalBets, Product_CountOfProduct))\n",
    "userdaily_5 <- subset(userdaily1, ProductID == 5, select = c(UserID, ProductID, Date, Product_TotalStakes, Product_TotalWinnings, Product_TotalBets, Product_CountOfProduct))\n",
    "userdaily_6 <- subset(userdaily1, ProductID == 6, select = c(UserID, ProductID, Date, Product_TotalStakes, Product_TotalWinnings, Product_TotalBets, Product_CountOfProduct))\n",
    "userdaily_7 <- subset(userdaily1, ProductID == 7, select = c(UserID, ProductID, Date, Product_TotalStakes, Product_TotalWinnings, Product_TotalBets, Product_CountOfProduct))\n",
    "userdaily_8 <- subset(userdaily1, ProductID == 8, select = c(UserID, ProductID, Date, Product_TotalStakes, Product_TotalWinnings, Product_TotalBets, Product_CountOfProduct))"
   ]
  },
  {
   "cell_type": "code",
   "execution_count": 72,
   "metadata": {},
   "outputs": [],
   "source": [
    "# Renaming columns in userdaily_1 dataset\n",
    "userdaily_1 <- rename(userdaily_1, c(\"ProductID\"=\"Product_1_ID\", \"Date\"=\"Product_1_Date\", \"Product_TotalStakes\"=\"Product_1_TotalStakes\", \"Product_TotalWinnings\"=\"Product_1_TotalWinnings\", \"Product_TotalBets\"=\"Product_1_TotalBets\", \"Product_CountOfProduct\"=\"Product_1_CountOfProduct\"))"
   ]
  },
  {
   "cell_type": "code",
   "execution_count": 73,
   "metadata": {},
   "outputs": [],
   "source": [
    "# Renaming columns in userdaily_2 dataset\n",
    "userdaily_2 <- rename(userdaily_2, c(\"ProductID\"=\"Product_2_ID\", \"Date\"=\"Product_2_Date\", \"Product_TotalStakes\"=\"Product_2_TotalStakes\", \"Product_TotalWinnings\"=\"Product_2_TotalWinnings\", \"Product_TotalBets\"=\"Product_2_TotalBets\", \"Product_CountOfProduct\"=\"Product_2_CountOfProduct\"))"
   ]
  },
  {
   "cell_type": "code",
   "execution_count": 74,
   "metadata": {},
   "outputs": [],
   "source": [
    "# Renaming columns in userdaily_4 dataset\n",
    "userdaily_4 <- rename(userdaily_4, c(\"ProductID\"=\"Product_4_ID\", \"Date\"=\"Product_4_Date\", \"Product_TotalStakes\"=\"Product_4_TotalStakes\", \"Product_TotalWinnings\"=\"Product_4_TotalWinnings\", \"Product_TotalBets\"=\"Product_4_TotalBets\", \"Product_CountOfProduct\"=\"Product_4_CountOfProduct\"))"
   ]
  },
  {
   "cell_type": "code",
   "execution_count": 75,
   "metadata": {},
   "outputs": [],
   "source": [
    "# Renaming columns in userdaily_5 dataset\n",
    "userdaily_5 <- rename(userdaily_5, c(\"ProductID\"=\"Product_5_ID\", \"Date\"=\"Product_5_Date\", \"Product_TotalStakes\"=\"Product_5_TotalStakes\", \"Product_TotalWinnings\"=\"Product_5_TotalWinnings\", \"Product_TotalBets\"=\"Product_5_TotalBets\", \"Product_CountOfProduct\"=\"Product_5_CountOfProduct\"))"
   ]
  },
  {
   "cell_type": "code",
   "execution_count": 76,
   "metadata": {},
   "outputs": [],
   "source": [
    "# Renaming columns in userdaily_6 dataset\n",
    "userdaily_6 <- rename(userdaily_6, c(\"ProductID\"=\"Product_6_ID\", \"Date\"=\"Product_6_Date\", \"Product_TotalStakes\"=\"Product_6_TotalStakes\", \"Product_TotalWinnings\"=\"Product_6_TotalWinnings\", \"Product_TotalBets\"=\"Product_6_TotalBets\", \"Product_CountOfProduct\"=\"Product_6_CountOfProduct\"))"
   ]
  },
  {
   "cell_type": "code",
   "execution_count": 77,
   "metadata": {},
   "outputs": [],
   "source": [
    "# Renaming columns in userdaily_7 dataset\n",
    "userdaily_7 <- rename(userdaily_7, c(\"ProductID\"=\"Product_7_ID\", \"Date\"=\"Product_7_Date\", \"Product_TotalStakes\"=\"Product_7_TotalStakes\", \"Product_TotalWinnings\"=\"Product_7_TotalWinnings\", \"Product_TotalBets\"=\"Product_7_TotalBets\", \"Product_CountOfProduct\"=\"Product_7_CountOfProduct\"))"
   ]
  },
  {
   "cell_type": "code",
   "execution_count": 78,
   "metadata": {},
   "outputs": [],
   "source": [
    "# Renaming columns in userdaily_8 dataset\n",
    "userdaily_8 <- rename(userdaily_8, c(\"ProductID\"=\"Product_8_ID\", \"Date\"=\"Product_8_Date\", \"Product_TotalStakes\"=\"Product_8_TotalStakes\", \"Product_TotalWinnings\"=\"Product_8_TotalWinnings\", \"Product_TotalBets\"=\"Product_8_TotalBets\", \"Product_CountOfProduct\"=\"Product_8_CountOfProduct\"))"
   ]
  },
  {
   "cell_type": "code",
   "execution_count": 79,
   "metadata": {},
   "outputs": [
    {
     "data": {
      "text/html": [
       "TRUE"
      ],
      "text/latex": [
       "TRUE"
      ],
      "text/markdown": [
       "TRUE"
      ],
      "text/plain": [
       "[1] TRUE"
      ]
     },
     "metadata": {},
     "output_type": "display_data"
    }
   ],
   "source": [
    "#Checking if there are only unique values in analyticdata: TRUE\n",
    "length(unique(analyticdata$USERID)) == nrow(analyticdata)"
   ]
  },
  {
   "cell_type": "code",
   "execution_count": 80,
   "metadata": {},
   "outputs": [],
   "source": [
    "analyticdata_final <- analyticdata"
   ]
  },
  {
   "cell_type": "markdown",
   "metadata": {},
   "source": [
    "<p>&nbsp;</p>\n",
    "\n",
    "\n",
    "\n",
    "## 3. Merging our datasets"
   ]
  },
  {
   "cell_type": "code",
   "execution_count": 81,
   "metadata": {},
   "outputs": [],
   "source": [
    "#Merging datasets to create datamart with one row per customer\n",
    "\n",
    "df1 <- merge(x = demographics_final, y = analyticdata_final, by.x = \"UserID\", by.y = \"USERID\", all = TRUE)"
   ]
  },
  {
   "cell_type": "code",
   "execution_count": 82,
   "metadata": {},
   "outputs": [],
   "source": [
    "df2 <- merge(x = df1, y = userdaily_1, by.x = \"UserID\", by.y = \"UserID\", all = TRUE)"
   ]
  },
  {
   "cell_type": "code",
   "execution_count": 83,
   "metadata": {},
   "outputs": [],
   "source": [
    "df3 <- merge(x = df2, y = userdaily_2, by.x = \"UserID\", by.y = \"UserID\", all = TRUE)"
   ]
  },
  {
   "cell_type": "code",
   "execution_count": 84,
   "metadata": {},
   "outputs": [],
   "source": [
    "df4 <- merge(x = df3, y = userdaily_4, by.x = \"UserID\", by.y = \"UserID\", all = TRUE)"
   ]
  },
  {
   "cell_type": "code",
   "execution_count": 85,
   "metadata": {},
   "outputs": [],
   "source": [
    "df5 <- merge(x = df4, y = userdaily_5, by.x = \"UserID\", by.y = \"UserID\", all = TRUE)"
   ]
  },
  {
   "cell_type": "code",
   "execution_count": 86,
   "metadata": {},
   "outputs": [],
   "source": [
    "df6 <- merge(x = df5, y = userdaily_6, by.x = \"UserID\", by.y = \"UserID\", all = TRUE)"
   ]
  },
  {
   "cell_type": "code",
   "execution_count": 87,
   "metadata": {},
   "outputs": [],
   "source": [
    "df7 <- merge(x = df6, y = userdaily_7, by.x = \"UserID\", by.y = \"UserID\", all = TRUE)"
   ]
  },
  {
   "cell_type": "code",
   "execution_count": 88,
   "metadata": {},
   "outputs": [],
   "source": [
    "df8 <- merge(x = df7, y = userdaily_8, by.x = \"UserID\", by.y = \"UserID\", all = TRUE)"
   ]
  },
  {
   "cell_type": "code",
   "execution_count": 89,
   "metadata": {},
   "outputs": [],
   "source": [
    "# Renaming columns in pokerchipssell dataset\n",
    "\n",
    "pokerchipssell <- rename(pokerchipssell, c(\"Poker_TransType\"=\"Poker_Sell_TransType\", \"Poker_TotalTransAmount\"=\"Poker_Sell_TotalTransAmount\", \"Poker_MinTransDate\"=\"Poker_Sell_MinTransDate\", \"Poker_MaxTransDate\"=\"Poker_Sell_MaxTransDate\", \"Poker_Count\" = \"Poker_BuyCount\"))"
   ]
  },
  {
   "cell_type": "code",
   "execution_count": 90,
   "metadata": {},
   "outputs": [],
   "source": [
    "# Renaming columns in pokerchipsbuy dataset\n",
    "\n",
    "pokerchipsbuy <- rename(pokerchipsbuy, c(\"Poker_TransType\"=\"Poker_Buy_TransType\", \"Poker_TotalTransAmount\"=\"Poker_Buy_TotalTransAmount\", \"Poker_MinTransDate\"=\"Poker_Buy_MinTransDate\", \"Poker_MaxTransDate\"=\"Poker_Buy_MaxTransDate\", \"Poker_Count\" = \"Poker_SellCount\"))"
   ]
  },
  {
   "cell_type": "code",
   "execution_count": 91,
   "metadata": {},
   "outputs": [],
   "source": [
    "df9 <- merge(x = df8, y = pokerchipssell, by.x = \"UserID\", by.y = \"UserID\", all = TRUE)"
   ]
  },
  {
   "cell_type": "code",
   "execution_count": 92,
   "metadata": {},
   "outputs": [],
   "source": [
    "df10 <- merge(x = df9, y = pokerchipsbuy, by.x = \"UserID\", by.y = \"UserID\", all = TRUE)"
   ]
  },
  {
   "cell_type": "code",
   "execution_count": 95,
   "metadata": {},
   "outputs": [],
   "source": [
    "datamart <- df10"
   ]
  },
  {
   "cell_type": "code",
   "execution_count": 96,
   "metadata": {},
   "outputs": [],
   "source": [
    "#Creating list of columns to be converted to numeric\n",
    "\n",
    "nms <- c(\"FOTotalStakes\", \"FOTotalWinnings\", \"FOTotalBets\", \"LATotalStakes\", \"LATotalWinnings\", \"LATotalBets\", \"Product_1_TotalStakes\", \"Product_2_TotalStakes\", \"Product_4_TotalStakes\", \"Product_5_TotalStakes\", \"Product_6_TotalStakes\", \"Product_7_TotalStakes\", \"Product_8_TotalStakes\", \"Product_1_TotalWinnings\", \"Product_2_TotalWinnings\", \"Product_4_TotalWinnings\", \"Product_5_TotalWinnings\", \"Product_6_TotalWinnings\", \"Product_7_TotalWinnings\", \"Product_8_TotalWinnings\", \"Product_1_TotalBets\", \"Product_2_TotalBets\", \"Product_4_TotalBets\", \"Product_5_TotalBets\", \"Product_6_TotalBets\", \"Product_7_TotalBets\", \"Product_8_TotalBets\", \"Poker_Sell_TotalTransAmount\", \"Poker_Buy_TotalTransAmount\", \"Product_1_CountOfProduct\", \"Product_2_CountOfProduct\", \"Product_4_CountOfProduct\", \"Product_5_CountOfProduct\", \"Product_6_CountOfProduct\", \"Product_7_CountOfProduct\", \"Product_8_CountOfProduct\", \"Poker_BuyCount\", \"Poker_SellCount\")"
   ]
  },
  {
   "cell_type": "code",
   "execution_count": 97,
   "metadata": {
    "scrolled": true
   },
   "outputs": [],
   "source": [
    "#Converting columns to numeric\n",
    "\n",
    "datamart[nms] <- lapply(datamart[nms], as.numeric)"
   ]
  },
  {
   "cell_type": "code",
   "execution_count": 98,
   "metadata": {},
   "outputs": [],
   "source": [
    "#Replacing null values with 0\n",
    "\n",
    "datamart[nms][is.na(datamart[nms])] <- 0"
   ]
  },
  {
   "cell_type": "markdown",
   "metadata": {},
   "source": [
    "# Creating calculated columns and metrics"
   ]
  },
  {
   "cell_type": "code",
   "execution_count": 99,
   "metadata": {},
   "outputs": [],
   "source": [
    "#Calculating total spending\n",
    "datamart$TotalSpending <- with(datamart, Poker_Buy_TotalTransAmount + Product_1_TotalStakes + Product_2_TotalStakes + Product_4_TotalStakes + Product_5_TotalStakes + Product_6_TotalStakes + Product_7_TotalStakes + Product_8_TotalStakes)"
   ]
  },
  {
   "cell_type": "code",
   "execution_count": 100,
   "metadata": {},
   "outputs": [],
   "source": [
    "#Calculating total number of bets\n",
    "datamart$TotalBets <- with(datamart, Product_1_TotalBets + Product_2_TotalBets + Product_4_TotalBets + Product_5_TotalBets + Product_6_TotalBets + Product_7_TotalBets + Product_8_TotalBets + Poker_BuyCount)"
   ]
  },
  {
   "cell_type": "code",
   "execution_count": 101,
   "metadata": {},
   "outputs": [],
   "source": [
    "#Average Order Value (AOV): Total Revenue / Total no. of Bets\n",
    "#This metric helps us understand customers spending habits and can help identify opportunities to upsell and make customise offers.\n",
    "\n",
    "datamart$AverageOrderValue = with(datamart, TotalSpending / TotalBets)"
   ]
  },
  {
   "cell_type": "code",
   "execution_count": 102,
   "metadata": {},
   "outputs": [],
   "source": [
    "#Calculating the total amount of money won per customer\n",
    "\n",
    "datamart$TotalWinnings = with(datamart, Product_1_TotalWinnings + Product_2_TotalWinnings + Product_4_TotalWinnings + Product_5_TotalWinnings + Product_6_TotalWinnings + Product_7_TotalWinnings + Product_8_TotalWinnings + Poker_Sell_TotalTransAmount)"
   ]
  },
  {
   "cell_type": "code",
   "execution_count": 103,
   "metadata": {},
   "outputs": [],
   "source": [
    "#Profitability per order (PPO): (Total Revenue - Total Winnings) / Total no. of bets\n",
    "\n",
    "datamart$Profitability = with(datamart, (TotalSpending - TotalWinnings) / TotalBets)"
   ]
  },
  {
   "cell_type": "code",
   "execution_count": 104,
   "metadata": {},
   "outputs": [
    {
     "name": "stdout",
     "output_type": "stream",
     "text": [
      "[1] 26994\n"
     ]
    }
   ],
   "source": [
    "#Number of customers who have bet more than once\n",
    "\n",
    "RepeatCustomers = length(which(datamart$TotalBets > 36))\n",
    "print(RepeatCustomers)"
   ]
  },
  {
   "cell_type": "code",
   "execution_count": 105,
   "metadata": {},
   "outputs": [
    {
     "name": "stdout",
     "output_type": "stream",
     "text": [
      "[1] 44295\n"
     ]
    }
   ],
   "source": [
    "#Total no. of customers\n",
    "\n",
    "CustomerCount = nrow(datamart)\n",
    "print(CustomerCount)"
   ]
  },
  {
   "cell_type": "code",
   "execution_count": 106,
   "metadata": {},
   "outputs": [
    {
     "name": "stdout",
     "output_type": "stream",
     "text": [
      "[1] 0.6094142\n"
     ]
    }
   ],
   "source": [
    "#Repeat Bet Rate (RBP): No. of customers who have bet more than once / Total no. of customers\n",
    "\n",
    "RepeatBetRate = RepeatCustomers/CustomerCount\n",
    "print(RepeatBetRate)"
   ]
  },
  {
   "cell_type": "code",
   "execution_count": 107,
   "metadata": {},
   "outputs": [
    {
     "name": "stdout",
     "output_type": "stream",
     "text": [
      "[1] 26994\n"
     ]
    }
   ],
   "source": [
    "#Number of customers who have bet more than 36 times\n",
    "\n",
    "LoyalCustomers = sum(datamart$TotalBets > 36)\n",
    "print(LoyalCustomers)"
   ]
  },
  {
   "cell_type": "code",
   "execution_count": 108,
   "metadata": {},
   "outputs": [
    {
     "name": "stdout",
     "output_type": "stream",
     "text": [
      "[1] 0.6094142\n"
     ]
    }
   ],
   "source": [
    "#Customer Loyalty Rate: Customers who have bet +36 times / No. of unique customers\n",
    "\n",
    "CustomerLoyaltyRate = LoyalCustomers/CustomerCount\n",
    "print(CustomerLoyaltyRate)"
   ]
  },
  {
   "cell_type": "code",
   "execution_count": 109,
   "metadata": {},
   "outputs": [
    {
     "data": {
      "text/html": [
       "TRUE"
      ],
      "text/latex": [
       "TRUE"
      ],
      "text/markdown": [
       "TRUE"
      ],
      "text/plain": [
       "[1] TRUE"
      ]
     },
     "metadata": {},
     "output_type": "display_data"
    }
   ],
   "source": [
    "length(unique(datamart$UserID)) == nrow(datamart)"
   ]
  },
  {
   "cell_type": "markdown",
   "metadata": {},
   "source": [
    "<p>&nbsp;</p>\n",
    "\n",
    "## 4. Creating the CSV files for the Shiny App "
   ]
  },
  {
   "cell_type": "code",
   "execution_count": 113,
   "metadata": {},
   "outputs": [],
   "source": [
    "library(readxl)"
   ]
  },
  {
   "cell_type": "code",
   "execution_count": 114,
   "metadata": {},
   "outputs": [],
   "source": [
    "countries <- read_excel(\"C:\\\\Users\\\\kfernandes\\\\Desktop\\\\Kripa Fernandes\\\\R Group Project\\\\Country names.xlsx\")"
   ]
  },
  {
   "cell_type": "code",
   "execution_count": 115,
   "metadata": {},
   "outputs": [],
   "source": [
    "datamart_c <- merge(x = datamart, y = countries, by.x = \"Country\", by.y = \"Country\")"
   ]
  },
  {
   "cell_type": "code",
   "execution_count": 117,
   "metadata": {},
   "outputs": [],
   "source": [
    "datamart = subset(datamart_c, select = -c(Country))"
   ]
  },
  {
   "cell_type": "code",
   "execution_count": 118,
   "metadata": {},
   "outputs": [],
   "source": [
    "datamart = subset(datamart, select = -c(COUNTRY, LANGUAGE, GENDER))"
   ]
  },
  {
   "cell_type": "code",
   "execution_count": 120,
   "metadata": {},
   "outputs": [],
   "source": [
    "datamart$Poker_PositiveProfits<-datamart$Poker_Sell_TotalTransAmount-datamart$Poker_Buy_TotalTransAmount\n",
    "datamart$Poker_PositiveProfits[datamart$Poker_PositiveProfits<0]<-0"
   ]
  },
  {
   "cell_type": "code",
   "execution_count": 121,
   "metadata": {},
   "outputs": [],
   "source": [
    "datamart$OldCustomer<-as.Date(\"2oct2005\", \"%d%b%Y\")- as.Date(datamart$FirstAct, \"%Y-%m-%d\")"
   ]
  },
  {
   "cell_type": "code",
   "execution_count": 122,
   "metadata": {},
   "outputs": [],
   "source": [
    "  datamart$Product_1_Gain<-datamart$Product_1_TotalWinnings-datamart$Product_1_TotalStakes\n",
    "  datamart$Product_1_GainPositive<-datamart$Product_1_Gain\n",
    "  datamart$Product_1_GainPositive[datamart$Product_1_GainPositive<0]<-0\n",
    "\n",
    "  datamart$Product_2_GainPositive<-datamart$Product_2_TotalWinnings-datamart$Product_2_TotalStakes\n",
    "  datamart$Product_2_GainPositive[datamart$Product_2_GainPositive<0]<-0\n",
    "\n",
    "  datamart$Product_4_GainPositive<-datamart$Product_4_TotalWinnings-datamart$Product_4_TotalStakes\n",
    "  datamart$Product_4_GainPositive[datamart$Product_4_GainPositive<0]<-0\n",
    "\n",
    "  datamart$Product_5_GainPositive<-datamart$Product_5_TotalWinnings-datamart$Product_5_TotalStakes\n",
    "  datamart$Product_5_GainPositive[datamart$Product_5_GainPositive<0]<-0\n",
    "\n",
    "  datamart$Product_6_GainPositive<-datamart$Product_6_TotalWinnings-datamart$Product_6_TotalStakes\n",
    "  datamart$Product_6_GainPositive[datamart$Product_6_GainPositive<0]<-0\n",
    "  \n",
    "  datamart$Product_7_GainPositive<-datamart$Product_7_TotalWinnings-datamart$Product_7_TotalStakes\n",
    "  datamart$Product_7_GainPositive[datamart$Product_7_GainPositive<0]<-0\n",
    "  \n",
    "  datamart$Product_8_GainPositive<-datamart$Product_8_TotalWinnings-datamart$Product_8_TotalStakes\n",
    "  datamart$Product_8_GainPositive[datamart$Product_8_GainPositive<0]<-0"
   ]
  },
  {
   "cell_type": "code",
   "execution_count": 123,
   "metadata": {},
   "outputs": [],
   "source": [
    "write.csv(datamart,\"datamart.csv\")"
   ]
  },
  {
   "cell_type": "code",
   "execution_count": 124,
   "metadata": {},
   "outputs": [],
   "source": [
    "country_analysis <- sqldf(\"SELECT CountryName, COUNT(Product_1_ID) as P1, COUNT(Product_2_ID) as P2, COUNT(Poker_Buy_TransType) as P3, COUNT(Product_4_ID) as P4, COUNT(Product_5_ID) as P5, COUNT(Product_6_ID) as P6, COUNT(Product_7_ID) as P7, COUNT(Product_8_ID) as P8, SUM(TotalSpending) as TotalSpending FROM datamart GROUP BY CountryName\")"
   ]
  },
  {
   "cell_type": "code",
   "execution_count": 125,
   "metadata": {},
   "outputs": [],
   "source": [
    "anal_country <- country_analysis[order(-country_analysis$TotalSpending),]"
   ]
  },
  {
   "cell_type": "code",
   "execution_count": 126,
   "metadata": {},
   "outputs": [],
   "source": [
    "country_P1<-head(country_analysis[order(-country_analysis$P1),],10)\n",
    "write.csv(country_P1,\"country_P1.csv\")"
   ]
  },
  {
   "cell_type": "code",
   "execution_count": 127,
   "metadata": {},
   "outputs": [
    {
     "data": {
      "text/html": [
       "<table>\n",
       "<thead><tr><th></th><th scope=col>CountryName</th><th scope=col>P1</th><th scope=col>P2</th><th scope=col>P3</th><th scope=col>P4</th><th scope=col>P5</th><th scope=col>P6</th><th scope=col>P7</th><th scope=col>P8</th><th scope=col>TotalSpending</th></tr></thead>\n",
       "<tbody>\n",
       "\t<tr><th scope=row>27</th><td>Germany    </td><td>23590      </td><td>14598      </td><td>163        </td><td>281        </td><td> 53        </td><td>274        </td><td>122        </td><td>607        </td><td>41297722   </td></tr>\n",
       "\t<tr><th scope=row>74</th><td>Turkey     </td><td> 2337      </td><td> 1567      </td><td>194        </td><td>  7        </td><td> 82        </td><td>358        </td><td>331        </td><td>576        </td><td> 4853013   </td></tr>\n",
       "\t<tr><th scope=row>29</th><td>Greece     </td><td> 2335      </td><td> 1495      </td><td>101        </td><td> 59        </td><td> 49        </td><td> 45        </td><td>185        </td><td>585        </td><td>14180753   </td></tr>\n",
       "\t<tr><th scope=row>67</th><td>Spain      </td><td> 2304      </td><td> 1387      </td><td>121        </td><td>226        </td><td> 85        </td><td>329        </td><td>184        </td><td>516        </td><td>10514531   </td></tr>\n",
       "\t<tr><th scope=row>57</th><td>Poland     </td><td> 2194      </td><td> 1660      </td><td> 98        </td><td>233        </td><td>172        </td><td>264        </td><td>122        </td><td>234        </td><td> 3710983   </td></tr>\n",
       "\t<tr><th scope=row>25</th><td>France     </td><td> 1996      </td><td> 1234      </td><td>171        </td><td>216        </td><td>121        </td><td>294        </td><td>217        </td><td>446        </td><td> 7961136   </td></tr>\n",
       "\t<tr><th scope=row>18</th><td>Denmark    </td><td> 1376      </td><td>  624      </td><td>866        </td><td>268        </td><td> 33        </td><td>241        </td><td>158        </td><td>491        </td><td> 7438483   </td></tr>\n",
       "\t<tr><th scope=row>5</th><td>Austria    </td><td> 1316      </td><td>  768      </td><td>126        </td><td>249        </td><td> 63        </td><td>185        </td><td>131        </td><td>504        </td><td>13440849   </td></tr>\n",
       "\t<tr><th scope=row>36</th><td>Italy      </td><td>  958      </td><td>  599      </td><td>129        </td><td>149        </td><td> 74        </td><td>219        </td><td>173        </td><td>334        </td><td> 7485071   </td></tr>\n",
       "\t<tr><th scope=row>69</th><td>Switzerland</td><td>  559      </td><td>  356      </td><td> 49        </td><td> 71        </td><td> 21        </td><td> 74        </td><td> 48        </td><td>183        </td><td> 4449965   </td></tr>\n",
       "</tbody>\n",
       "</table>\n"
      ],
      "text/latex": [
       "\\begin{tabular}{r|llllllllll}\n",
       "  & CountryName & P1 & P2 & P3 & P4 & P5 & P6 & P7 & P8 & TotalSpending\\\\\n",
       "\\hline\n",
       "\t27 & Germany     & 23590       & 14598       & 163         & 281         &  53         & 274         & 122         & 607         & 41297722   \\\\\n",
       "\t74 & Turkey      &  2337       &  1567       & 194         &   7         &  82         & 358         & 331         & 576         &  4853013   \\\\\n",
       "\t29 & Greece      &  2335       &  1495       & 101         &  59         &  49         &  45         & 185         & 585         & 14180753   \\\\\n",
       "\t67 & Spain       &  2304       &  1387       & 121         & 226         &  85         & 329         & 184         & 516         & 10514531   \\\\\n",
       "\t57 & Poland      &  2194       &  1660       &  98         & 233         & 172         & 264         & 122         & 234         &  3710983   \\\\\n",
       "\t25 & France      &  1996       &  1234       & 171         & 216         & 121         & 294         & 217         & 446         &  7961136   \\\\\n",
       "\t18 & Denmark     &  1376       &   624       & 866         & 268         &  33         & 241         & 158         & 491         &  7438483   \\\\\n",
       "\t5 & Austria     &  1316       &   768       & 126         & 249         &  63         & 185         & 131         & 504         & 13440849   \\\\\n",
       "\t36 & Italy       &   958       &   599       & 129         & 149         &  74         & 219         & 173         & 334         &  7485071   \\\\\n",
       "\t69 & Switzerland &   559       &   356       &  49         &  71         &  21         &  74         &  48         & 183         &  4449965   \\\\\n",
       "\\end{tabular}\n"
      ],
      "text/markdown": [
       "\n",
       "| <!--/--> | CountryName | P1 | P2 | P3 | P4 | P5 | P6 | P7 | P8 | TotalSpending |\n",
       "|---|---|---|---|---|---|---|---|---|---|---|\n",
       "| 27 | Germany     | 23590       | 14598       | 163         | 281         |  53         | 274         | 122         | 607         | 41297722    |\n",
       "| 74 | Turkey      |  2337       |  1567       | 194         |   7         |  82         | 358         | 331         | 576         |  4853013    |\n",
       "| 29 | Greece      |  2335       |  1495       | 101         |  59         |  49         |  45         | 185         | 585         | 14180753    |\n",
       "| 67 | Spain       |  2304       |  1387       | 121         | 226         |  85         | 329         | 184         | 516         | 10514531    |\n",
       "| 57 | Poland      |  2194       |  1660       |  98         | 233         | 172         | 264         | 122         | 234         |  3710983    |\n",
       "| 25 | France      |  1996       |  1234       | 171         | 216         | 121         | 294         | 217         | 446         |  7961136    |\n",
       "| 18 | Denmark     |  1376       |   624       | 866         | 268         |  33         | 241         | 158         | 491         |  7438483    |\n",
       "| 5 | Austria     |  1316       |   768       | 126         | 249         |  63         | 185         | 131         | 504         | 13440849    |\n",
       "| 36 | Italy       |   958       |   599       | 129         | 149         |  74         | 219         | 173         | 334         |  7485071    |\n",
       "| 69 | Switzerland |   559       |   356       |  49         |  71         |  21         |  74         |  48         | 183         |  4449965    |\n",
       "\n"
      ],
      "text/plain": [
       "   CountryName P1    P2    P3  P4  P5  P6  P7  P8  TotalSpending\n",
       "27 Germany     23590 14598 163 281  53 274 122 607 41297722     \n",
       "74 Turkey       2337  1567 194   7  82 358 331 576  4853013     \n",
       "29 Greece       2335  1495 101  59  49  45 185 585 14180753     \n",
       "67 Spain        2304  1387 121 226  85 329 184 516 10514531     \n",
       "57 Poland       2194  1660  98 233 172 264 122 234  3710983     \n",
       "25 France       1996  1234 171 216 121 294 217 446  7961136     \n",
       "18 Denmark      1376   624 866 268  33 241 158 491  7438483     \n",
       "5  Austria      1316   768 126 249  63 185 131 504 13440849     \n",
       "36 Italy         958   599 129 149  74 219 173 334  7485071     \n",
       "69 Switzerland   559   356  49  71  21  74  48 183  4449965     "
      ]
     },
     "metadata": {},
     "output_type": "display_data"
    }
   ],
   "source": [
    "country_P1"
   ]
  },
  {
   "cell_type": "code",
   "execution_count": 128,
   "metadata": {},
   "outputs": [],
   "source": [
    "country_P2<-head(country_analysis[order(-country_analysis$P2),],10)\n",
    "write.csv(country_P2,\"country_P2.csv\")"
   ]
  },
  {
   "cell_type": "code",
   "execution_count": 129,
   "metadata": {},
   "outputs": [],
   "source": [
    "country_P3<-head(country_analysis[order(-country_analysis$P3),],10)\n",
    "write.csv(country_P3,\"country_P3.csv\")"
   ]
  },
  {
   "cell_type": "code",
   "execution_count": 130,
   "metadata": {},
   "outputs": [],
   "source": [
    "country_P4<-head(country_analysis[order(-country_analysis$P4),],10)\n",
    "write.csv(country_P4,\"country_P4.csv\")"
   ]
  },
  {
   "cell_type": "code",
   "execution_count": 131,
   "metadata": {},
   "outputs": [],
   "source": [
    "country_P5<-head(country_analysis[order(-country_analysis$P5),],10)\n",
    "write.csv(country_P5,\"country_P5.csv\")"
   ]
  },
  {
   "cell_type": "code",
   "execution_count": 132,
   "metadata": {},
   "outputs": [],
   "source": [
    "country_P6<-head(country_analysis[order(-country_analysis$P6),],10)\n",
    "write.csv(country_P6,\"country_P6.csv\")"
   ]
  },
  {
   "cell_type": "code",
   "execution_count": 133,
   "metadata": {},
   "outputs": [],
   "source": [
    "country_P7<-head(country_analysis[order(-country_analysis$P7),],10)\n",
    "write.csv(country_P7,\"country_P7.csv\")"
   ]
  },
  {
   "cell_type": "code",
   "execution_count": 134,
   "metadata": {},
   "outputs": [],
   "source": [
    "country_P8<-head(country_analysis[order(-country_analysis$P8),],10)\n",
    "write.csv(country_P8,\"country_P8.csv\")"
   ]
  },
  {
   "cell_type": "code",
   "execution_count": 135,
   "metadata": {},
   "outputs": [],
   "source": [
    "gender_analysis <- sqldf(\"SELECT Gender, COUNT(Product_1_ID) as P1, COUNT(Product_2_ID) as P2, COUNT(Poker_Buy_TransType) as P3, COUNT(Product_4_ID) as P4, COUNT(Product_5_ID) as P5, COUNT(Product_6_ID) as P6, COUNT(Product_7_ID) as P7, COUNT(Product_8_ID) as P8, SUM(TotalSpending) as TotalSpending FROM datamart GROUP BY Gender\")"
   ]
  },
  {
   "cell_type": "code",
   "execution_count": 136,
   "metadata": {
    "scrolled": true
   },
   "outputs": [],
   "source": [
    "anal_gender <- gender_analysis[order(-gender_analysis$TotalSpending),]"
   ]
  },
  {
   "cell_type": "code",
   "execution_count": 137,
   "metadata": {},
   "outputs": [],
   "source": [
    "anal_gender<-anal_gender[1:2,]\n",
    "anal_gender$Gender[anal_gender$Gender==1]<-\"Male\"\n",
    "anal_gender$Gender[anal_gender$Gender==0]<-\"Female\"\n",
    "write.csv(anal_gender,\"gender.csv\")"
   ]
  },
  {
   "cell_type": "code",
   "execution_count": 138,
   "metadata": {},
   "outputs": [],
   "source": [
    "age_analysis <- sqldf(\"SELECT AGE, COUNT(Product_1_ID) as P1, COUNT(Product_2_ID) as P2, COUNT(Poker_Buy_TransType) as P3, COUNT(Product_4_ID) as P4, COUNT(Product_5_ID) as P5, COUNT(Product_6_ID) as P6, COUNT(Product_7_ID) as P7, COUNT(Product_8_ID) as P8, SUM(TotalSpending) as TotalSpending FROM datamart GROUP BY AGE\")"
   ]
  },
  {
   "cell_type": "code",
   "execution_count": 139,
   "metadata": {},
   "outputs": [],
   "source": [
    "anal_age <- age_analysis[order(age_analysis$AGE),]\n",
    "anal_age<-anal_age[1:78,]\n",
    "write.csv(anal_age,\"age.csv\")"
   ]
  },
  {
   "cell_type": "markdown",
   "metadata": {},
   "source": [
    "# Creating final marketing datamart with key values"
   ]
  },
  {
   "cell_type": "code",
   "execution_count": 141,
   "metadata": {},
   "outputs": [],
   "source": [
    "final <- rename(datamart, c(\"Product_1_ID\"=\"Sports book fixed odds\", \"Product_1_Date\"=\"Sports book fixed odds: Date\", \"Product_1_TotalStakes\"=\"Sports book fixed odds: Total Stakes\", \"Product_1_TotalWinnings\"=\"Sports book fixed odds: Total Winnings\", \"Product_1_TotalBets\"=\"Sports book fixed odds: Total Bets\", \"Product_1_CountOfProduct\"=\"Sports book fixed odds: No. of purchases\"))"
   ]
  },
  {
   "cell_type": "code",
   "execution_count": 142,
   "metadata": {},
   "outputs": [],
   "source": [
    "final <- rename(final, c(\"Product_2_ID\"=\"Sports book live action\", \"Product_2_Date\"=\"Sports book live action: Date\", \"Product_2_TotalStakes\"=\"Sports book live action: Total Stakes\", \"Product_2_TotalWinnings\"=\"Sports book live action: Total Winnings\", \"Product_2_TotalBets\"=\"Sports book live action: Total Bets\", \"Product_2_CountOfProduct\"=\"Sports book live action: No. of purchases\"))"
   ]
  },
  {
   "cell_type": "code",
   "execution_count": 143,
   "metadata": {},
   "outputs": [],
   "source": [
    "final <- rename(final, c(\"Product_4_ID\"=\"Casino BossMedia\", \"Product_4_Date\"=\"Casino BossMedia: Date\", \"Product_4_TotalStakes\"=\"Casino BossMedia: Total Stakes\", \"Product_4_TotalWinnings\"=\"Casino BossMedia: Total Winnings\", \"Product_4_TotalBets\"=\"Casino BossMedia: Total Bets\", \"Product_4_CountOfProduct\"=\"Casino BossMedia: No. of purchases\"))"
   ]
  },
  {
   "cell_type": "code",
   "execution_count": 144,
   "metadata": {},
   "outputs": [],
   "source": [
    "final <- rename(final, c(\"Product_5_ID\"=\"Supertoto\", \"Product_5_Date\"=\"Supertoto: Date\", \"Product_5_TotalStakes\"=\"Supertoto: Total Stakes\", \"Product_5_TotalWinnings\"=\"Supertoto: Total Winnings\", \"Product_5_TotalBets\"=\"Supertoto: Total Bets\", \"Product_5_CountOfProduct\"=\"Supertoto: No. of purchases\"))"
   ]
  },
  {
   "cell_type": "code",
   "execution_count": 145,
   "metadata": {},
   "outputs": [],
   "source": [
    "final <- rename(final, c(\"Product_6_ID\"=\"Games VS\", \"Product_6_Date\"=\"Games VS: Date\", \"Product_6_TotalStakes\"=\"Games VS: Total Stakes\", \"Product_6_TotalWinnings\"=\"Games VS: Total Winnings\", \"Product_6_TotalBets\"=\"Games VS: Total Bets\", \"Product_6_CountOfProduct\"=\"Games VS: No. of purchases\"))"
   ]
  },
  {
   "cell_type": "code",
   "execution_count": 146,
   "metadata": {},
   "outputs": [],
   "source": [
    "final <- rename(final, c(\"Product_7_ID\"=\"Games btwin\", \"Product_7_Date\"=\"Games btwin: Date\", \"Product_7_TotalStakes\"=\"Games btwin: Total Stakes\", \"Product_7_TotalWinnings\"=\"Games btwin: Total Winnings\", \"Product_7_TotalBets\"=\"Games btwin: Total Bets\", \"Product_7_CountOfProduct\"=\"Games btwin: No. of purchases\"))"
   ]
  },
  {
   "cell_type": "code",
   "execution_count": 147,
   "metadata": {},
   "outputs": [],
   "source": [
    "final <- rename(final, c(\"Product_8_ID\"=\"Casino Chartwell\", \"Product_8_Date\"=\"Casino Chartwell: Date\", \"Product_8_TotalStakes\"=\"Casino Chartwell: Total Stakes\", \"Product_8_TotalWinnings\"=\"Casino Chartwell: Total Winnings\", \"Product_8_TotalBets\"=\"Casino Chartwell: Total Bets\", \"Product_8_CountOfProduct\"=\"Casino Chartwell: No. of purchases\"))"
   ]
  },
  {
   "cell_type": "code",
   "execution_count": 148,
   "metadata": {},
   "outputs": [],
   "source": [
    "final <- rename(final, c(\"Poker_SellCount\"=\"Poker: No. of sells\", \"Poker_Sell_TotalTransAmount\"=\"Poker: Total amount sold\", \"Poker_Sell_MinTransDate\"=\"Poker: First Sell Transaction Date\", \"Poker_Sell_MaxTransDate\"=\"Poker: Last Sell Transaction Date\", \"Poker_BuyCount\"=\"Poker: No. of buys\", \"Poker_Sell_TransType\"=\"Poker: Customer has sold chips\", \"Poker_Buy_TransType\"=\"Poker: Customer has bought chips\"))"
   ]
  },
  {
   "cell_type": "code",
   "execution_count": 149,
   "metadata": {},
   "outputs": [],
   "source": [
    "final <- rename(final, c(\"UserID\"=\"User ID\", \"RegDate\"=\"Registration Date\", \"AGE\"=\"Age\", \"Poker_Buy_TotalTransAmount\"=\"Poker: Total amount bought\", \"Poker_Buy_MinTransDate\"=\"Poker: First Buy Transaction Date\", \"Poker_Buy_MaxTransDate\"=\"Poker: Last Buy Transaction Date\"))"
   ]
  },
  {
   "cell_type": "code",
   "execution_count": 150,
   "metadata": {},
   "outputs": [],
   "source": [
    "final <- rename(final, c(\"TotalSpending\"=\"Total Expenditure\", \"TotalBets\"=\"Total no. of bets\", \"AverageOrderValue\"=\"Average Order Value (AOV)\", \"TotalWinnings\"=\"Total won\"))"
   ]
  },
  {
   "cell_type": "code",
   "execution_count": 151,
   "metadata": {},
   "outputs": [],
   "source": [
    "marketing<-subset(final,select=-c(FirstPay,FirstAct,FirstSp,FirstCa,FirstGa,FirstPo,ApplicationID,RegistrationDate,FOTotalStakes,FOTotalWinnings,FOTotalBets,FOFirstActiveDate,FOLastActiveDate,FOTotalDaysActive,LATotalStakes,LATotalWinnings,LATotalBets,LAFirstActiveDate,LALastActiveDate,LATotalDaysActive,FirstSportsActiveDate,Poker_PositiveProfits,OldCustomer,Product_1_Gain,Product_1_GainPositive,Product_2_GainPositive,Product_4_GainPositive,Product_5_GainPositive,Product_6_GainPositive,Product_7_GainPositive,Product_8_GainPositive\n",
    "))"
   ]
  },
  {
   "cell_type": "markdown",
   "metadata": {},
   "source": [
    "# Calculating summary values from dataframe"
   ]
  },
  {
   "cell_type": "code",
   "execution_count": null,
   "metadata": {},
   "outputs": [],
   "source": [
    "# Which are the biggest countries with gamblers\n",
    "\n",
    "topgamblers_per_Country <- count(datamart$COUNTRY)\n",
    "topgamblers_sorted <- top_n(topgamblers_per_Country, 10, freq)\n",
    "topgamblers_sorted"
   ]
  },
  {
   "cell_type": "code",
   "execution_count": null,
   "metadata": {},
   "outputs": [],
   "source": [
    "# Gamblers per gender\n",
    "# 1 = male\n",
    "# 0 = female\n",
    "\n",
    "gamblers_gender <- count(datamart$Gender)\n",
    "gamblers_gender"
   ]
  },
  {
   "cell_type": "code",
   "execution_count": null,
   "metadata": {},
   "outputs": [],
   "source": [
    "# Most popular Products\n",
    "\n",
    "Products_popularity <- count(userdaily$ProductID)\n",
    "Products_popularity"
   ]
  },
  {
   "cell_type": "code",
   "execution_count": null,
   "metadata": {},
   "outputs": [],
   "source": [
    "# Customer average life exploration\n",
    "\n",
    "average_gamblerlife <- (datamart$AGE)\n",
    "average_gamblerlife"
   ]
  },
  {
   "cell_type": "code",
   "execution_count": null,
   "metadata": {},
   "outputs": [],
   "source": [
    "# Average age on registration \n",
    "\n",
    "datamart['AGE'][is.na(datamart['AGE'])] <- 0\n",
    "gambler_age <- (datamart$AGE)\n",
    "mean(gambler_age)"
   ]
  },
  {
   "cell_type": "code",
   "execution_count": null,
   "metadata": {},
   "outputs": [],
   "source": [
    "# Summary information on ages\n",
    "\n",
    "summary(gambler_age)"
   ]
  }
 ],
 "metadata": {
  "kernelspec": {
   "display_name": "R",
   "language": "R",
   "name": "ir"
  },
  "language_info": {
   "codemirror_mode": "r",
   "file_extension": ".r",
   "mimetype": "text/x-r-source",
   "name": "R",
   "pygments_lexer": "r",
   "version": "3.6.1"
  }
 },
 "nbformat": 4,
 "nbformat_minor": 2
}
